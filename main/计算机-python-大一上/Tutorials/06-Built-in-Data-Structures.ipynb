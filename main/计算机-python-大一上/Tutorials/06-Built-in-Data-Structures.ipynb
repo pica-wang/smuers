{
 "cells": [
  {
   "cell_type": "markdown",
   "metadata": {},
   "source": [
    "# Built-In Data Structures\n",
    "\n",
    "# 内建数据结构\n",
    "\n",
    "> We have seen Python's simple types: ``int``, ``float``, ``complex``, ``bool``, ``str``, and so on.\n",
    "Python also has several built-in compound types, which act as containers for other types.\n",
    "These compound types are:\n",
    "\n",
    "> | Type Name | Example                   |Description                            |\n",
    "|-----------|---------------------------|---------------------------------------|\n",
    "| ``list``  | ``[1, 2, 3]``             | Ordered collection                    |\n",
    "| ``tuple`` | ``(1, 2, 3)``             | Immutable ordered collection          |\n",
    "| ``dict``  | ``{'a':1, 'b':2, 'c':3}`` | Unordered (key,value) mapping         |\n",
    "| ``set``   | ``{1, 2, 3}``             | Unordered collection of unique values |\n",
    "\n",
    "我们已经看过了Python的简单类型：``int``, ``float``, ``complex``, ``bool``, ``str`` 等等。\n",
    "Python同样有许多内建的复杂类型，作为提供给其他类型的容器。\n",
    "这些复杂类型是：\n",
    "\n",
    "| 名称 | 例子                   |描述                           |\n",
    "|-----------|---------------------------|---------------------------------------|\n",
    "| ``list``  | ``[1, 2, 3]``             | 有序集合                    |\n",
    "| ``tuple`` | ``(1, 2, 3)``             | 不可变的有序集合          |\n",
    "| ``dict``  | ``{'a':1, 'b':2, 'c':3}`` | 无序的映射        |\n",
    "| ``set``   | ``{1, 2, 3}``             | 无序且不重复的集合 |\n",
    "\n",
    "> As you can see, round, square, and curly brackets have distinct meanings when it comes to the type of collection produced.\n",
    "We'll take a quick tour of these data structures here.\n",
    "\n",
    "你将会看到，当我们使用这些复合类型时，小括号、中括号和大括号有着它们独特的意义。\n",
    "我们接下来会快速的浏览一遍这些数据结构。"
   ]
  },
  {
   "cell_type": "markdown",
   "metadata": {},
   "source": [
    "## Lists\n",
    "\n",
    "## 列表\n",
    "\n",
    "> Lists are the basic *ordered* and *mutable* data collection type in Python.\n",
    "They can be defined with comma-separated values between square brackets; for example, here is a list of the first several prime numbers:\n",
    "\n",
    "列表是基本的*有序*及*可变*的数据集合类型。\n",
    "列表可以使用中括号中的逗号分隔的元素来定义；例如，下面定义了一个列表含有一些质数："
   ]
  },
  {
   "cell_type": "code",
   "execution_count": 1,
   "metadata": {},
   "outputs": [],
   "source": [
    "L = [2, 3, 5, 7]"
   ]
  },
  {
   "cell_type": "markdown",
   "metadata": {},
   "source": [
    "> Lists have a number of useful properties and methods available to them.\n",
    "Here we'll take a quick look at some of the more common and useful ones:\n",
    "\n",
    "列表有许多有用的属性和方法。\n",
    "下面我们快速地看看其中一些最常用和有用的："
   ]
  },
  {
   "cell_type": "code",
   "execution_count": 2,
   "metadata": {},
   "outputs": [
    {
     "data": {
      "text/plain": [
       "4"
      ]
     },
     "execution_count": 2,
     "metadata": {},
     "output_type": "execute_result"
    }
   ],
   "source": [
    "# Length of a list\n",
    "# 列表的长度\n",
    "len(L)"
   ]
  },
  {
   "cell_type": "code",
   "execution_count": 3,
   "metadata": {},
   "outputs": [
    {
     "data": {
      "text/plain": [
       "[2, 3, 5, 7, 11]"
      ]
     },
     "execution_count": 3,
     "metadata": {},
     "output_type": "execute_result"
    }
   ],
   "source": [
    "# Append a value to the end\n",
    "# 在列表末尾添加元素\n",
    "L.append(11)\n",
    "L"
   ]
  },
  {
   "cell_type": "code",
   "execution_count": 4,
   "metadata": {},
   "outputs": [
    {
     "data": {
      "text/plain": [
       "[2, 3, 5, 7, 11, 13, 17, 19]"
      ]
     },
     "execution_count": 4,
     "metadata": {},
     "output_type": "execute_result"
    }
   ],
   "source": [
    "# Addition concatenates lists\n",
    "# 列表的连接\n",
    "L + [13, 17, 19]"
   ]
  },
  {
   "cell_type": "code",
   "execution_count": 5,
   "metadata": {},
   "outputs": [
    {
     "data": {
      "text/plain": [
       "[1, 2, 3, 4, 5, 6]"
      ]
     },
     "execution_count": 5,
     "metadata": {},
     "output_type": "execute_result"
    }
   ],
   "source": [
    "# sort() method sorts in-place\n",
    "# 排序\n",
    "L = [2, 5, 1, 6, 3, 4]\n",
    "L.sort()\n",
    "L"
   ]
  },
  {
   "cell_type": "markdown",
   "metadata": {},
   "source": [
    "> In addition, there are many more built-in list methods; they are well-covered in Python's [online documentation](https://docs.python.org/3/tutorial/datastructures.html).\n",
    "\n",
    "还有很多内建的列表方法；你可以在Python的[在线文档](https://docs.python.org/3/tutorial/datastructures.html)中找到它们。\n",
    "\n",
    "> While we've been demonstrating lists containing values of a single type, one of the powerful features of Python's compound objects is that they can contain objects of *any* type, or even a mix of types. For example:\n",
    "\n",
    "虽然我们展示的列表都只包含同一种类型的元素，实际上，Python复合类型最强大的特性之一就是它们可以包含*任何*类型的元素，甚至包含复合类型本身。例如："
   ]
  },
  {
   "cell_type": "code",
   "execution_count": 6,
   "metadata": {},
   "outputs": [],
   "source": [
    "L = [1, 'two', 3.14, [0, 3, 5]]"
   ]
  },
  {
   "cell_type": "markdown",
   "metadata": {},
   "source": [
    "> This flexibility is a consequence of Python's dynamic type system.\n",
    "Creating such a mixed sequence in a statically-typed language like C can be much more of a headache!\n",
    "We see that lists can even contain other lists as elements.\n",
    "Such type flexibility is an essential piece of what makes Python code relatively quick and easy to write.\n",
    "\n",
    "这种灵活性实际上是Python动态类型系统的结果。\n",
    "在静态类型语言中（如C）创建这样的混合类型集合会比在Python中头疼许多！\n",
    "我们在上面的例子中看到列表可以包含另外一个列表作为它的元素。\n",
    "这种灵活性是使得Python代码能够更快和容易编写的关键因素。\n",
    "\n",
    "> So far we've been considering manipulations of lists as a whole; another essential piece is the accessing of individual elements.\n",
    "This is done in Python via *indexing* and *slicing*, which we'll explore next.\n",
    "\n",
    "目前我们只是看到了如何将列表作为一个整体进行操作；还有一个核心的操作是访问和操作列表中的单个或部分元素。\n",
    "在Python中，我们通过*索引*和*切片*操作实现，我们现在来研究一下。"
   ]
  },
  {
   "cell_type": "markdown",
   "metadata": {},
   "source": [
    "### List indexing and slicing\n",
    "\n",
    "### 列表索引和切片\n",
    "\n",
    "> Python provides access to elements in compound types through *indexing* for single elements, and *slicing* for multiple elements.\n",
    "As we'll see, both are indicated by a square-bracket syntax.\n",
    "Suppose we return to our list of the first several primes:\n",
    "\n",
    "Python提供了*索引*操作用来访问复合类型中的单个元素，*切片*操作用来访问多个元素。\n",
    "我们将会看到，这两个操作都使用中括号语法。\n",
    "我们回到之前那个质数的列表："
   ]
  },
  {
   "cell_type": "code",
   "execution_count": 7,
   "metadata": {},
   "outputs": [],
   "source": [
    "L = [2, 3, 5, 7, 11]"
   ]
  },
  {
   "cell_type": "markdown",
   "metadata": {},
   "source": [
    "> Python uses *zero-based* indexing, so we can access the first and second element in using the following syntax:\n",
    "\n",
    "Python使用*0基准*的索引，因此我们可以通过以下语法访问列表的第一个和第二个元素："
   ]
  },
  {
   "cell_type": "code",
   "execution_count": 8,
   "metadata": {},
   "outputs": [
    {
     "data": {
      "text/plain": [
       "2"
      ]
     },
     "execution_count": 8,
     "metadata": {},
     "output_type": "execute_result"
    }
   ],
   "source": [
    "L[0]"
   ]
  },
  {
   "cell_type": "code",
   "execution_count": 9,
   "metadata": {},
   "outputs": [
    {
     "data": {
      "text/plain": [
       "3"
      ]
     },
     "execution_count": 9,
     "metadata": {},
     "output_type": "execute_result"
    }
   ],
   "source": [
    "L[1]"
   ]
  },
  {
   "cell_type": "markdown",
   "metadata": {},
   "source": [
    "> Elements at the end of the list can be accessed with negative numbers, starting from -1:\n",
    "\n",
    "列表末尾的元素可以使用负数进行访问，从-1开始："
   ]
  },
  {
   "cell_type": "code",
   "execution_count": 10,
   "metadata": {},
   "outputs": [
    {
     "data": {
      "text/plain": [
       "11"
      ]
     },
     "execution_count": 10,
     "metadata": {},
     "output_type": "execute_result"
    }
   ],
   "source": [
    "L[-1]"
   ]
  },
  {
   "cell_type": "code",
   "execution_count": 11,
   "metadata": {},
   "outputs": [
    {
     "data": {
      "text/plain": [
       "7"
      ]
     },
     "execution_count": 11,
     "metadata": {},
     "output_type": "execute_result"
    }
   ],
   "source": [
    "L[-2]"
   ]
  },
  {
   "cell_type": "markdown",
   "metadata": {},
   "source": [
    "> You can visualize this indexing scheme this way:\n",
    "\n",
    "你可以通过下面的图了解索引："
   ]
  },
  {
   "cell_type": "markdown",
   "metadata": {},
   "source": [
    "![List Indexing Figure](fig/list-indexing.png)"
   ]
  },
  {
   "cell_type": "markdown",
   "metadata": {},
   "source": [
    "> Here values in the list are represented by large numbers in the squares; list indices are represented by small numbers above and below.\n",
    "In this case, ``L[2]`` returns ``5``, because that is the next value at index ``2``.\n",
    "\n",
    "这里列表中的元素值使用方格中的大数字表示；列表的索引表示成上面和下面的小数字。\n",
    "在这里，``L[2]`` 得到 ``5``，因为它是索引``2``的下一个元素值。"
   ]
  },
  {
   "cell_type": "markdown",
   "metadata": {},
   "source": [
    "> Where *indexing* is a means of fetching a single value from the list, *slicing* is a means of accessing multiple values in sub-lists.\n",
    "It uses a colon to indicate the start point (inclusive) and end point (non-inclusive) of the sub-array.\n",
    "For example, to get the first three elements of the list, we can write:\n",
    "\n",
    "*索引*是从列表中访问单个元素值的方法，*切片*是取得列表多个元素值或者叫子列表的方法。\n",
    "使用冒号指明开始索引（包含）和结束索引（不包含）来进行切片。\n",
    "例如，要活的列表的头三个元素值，我们可以写成："
   ]
  },
  {
   "cell_type": "code",
   "execution_count": 12,
   "metadata": {},
   "outputs": [
    {
     "data": {
      "text/plain": [
       "[2, 3, 5]"
      ]
     },
     "execution_count": 12,
     "metadata": {},
     "output_type": "execute_result"
    }
   ],
   "source": [
    "L[0:3]"
   ]
  },
  {
   "cell_type": "markdown",
   "metadata": {},
   "source": [
    "> Notice where ``0`` and ``3`` lie in the preceding diagram, and how the slice takes just the values between the indices.\n",
    "If we leave out the first index, ``0`` is assumed, so we can equivalently write:\n",
    "\n",
    "注意前面那张图中的``0`` 和 ``3``的位置，和切片操作如何在索引之间取得元素的。\n",
    "如果我们将开始索引留空，将默认为``0``，因此我们也可以等同的写成："
   ]
  },
  {
   "cell_type": "code",
   "execution_count": 13,
   "metadata": {},
   "outputs": [
    {
     "data": {
      "text/plain": [
       "[2, 3, 5]"
      ]
     },
     "execution_count": 13,
     "metadata": {},
     "output_type": "execute_result"
    }
   ],
   "source": [
    "L[:3]"
   ]
  },
  {
   "cell_type": "markdown",
   "metadata": {},
   "source": [
    "> Similarly, if we leave out the last index, it defaults to the length of the list.\n",
    "Thus, the last three elements can be accessed as follows:\n",
    "\n",
    "同样的，如果我们将结束索引留空，将默认为列表的长度。\n",
    "因此，列表最后三个元素可以如下方式访问："
   ]
  },
  {
   "cell_type": "code",
   "execution_count": 14,
   "metadata": {},
   "outputs": [
    {
     "data": {
      "text/plain": [
       "[5, 7, 11]"
      ]
     },
     "execution_count": 14,
     "metadata": {},
     "output_type": "execute_result"
    }
   ],
   "source": [
    "L[-3:]"
   ]
  },
  {
   "cell_type": "markdown",
   "metadata": {},
   "source": [
    "> Finally, it is possible to specify a third integer that represents the step size; for example, to select every second element of the list, we can write:\n",
    "\n",
    "最后，可以使用第三个整数表示切片的步长；例如，要选择列表中的偶数索引元素的话，我们可以写为："
   ]
  },
  {
   "cell_type": "code",
   "execution_count": 15,
   "metadata": {},
   "outputs": [
    {
     "data": {
      "text/plain": [
       "[2, 5, 11]"
      ]
     },
     "execution_count": 15,
     "metadata": {},
     "output_type": "execute_result"
    }
   ],
   "source": [
    "L[::2]  # equivalent to L[0:len(L):2] 等同于L[0:len(L):2]"
   ]
  },
  {
   "cell_type": "markdown",
   "metadata": {},
   "source": [
    "> A particularly useful version of this is to specify a negative step, which will reverse the array:\n",
    "\n",
    "可以将步长指定为负数，这样的做法将会反向切片列表，非常有用："
   ]
  },
  {
   "cell_type": "code",
   "execution_count": 16,
   "metadata": {},
   "outputs": [
    {
     "data": {
      "text/plain": [
       "[11, 7, 5, 3, 2]"
      ]
     },
     "execution_count": 16,
     "metadata": {},
     "output_type": "execute_result"
    }
   ],
   "source": [
    "L[::-1]"
   ]
  },
  {
   "cell_type": "markdown",
   "metadata": {},
   "source": [
    "> Both indexing and slicing can be used to set elements as well as access them.\n",
    "The syntax is as you would expect:\n",
    "\n",
    "索引和切片操作除了访问元素值外，还可以用来设置元素值。\n",
    "你可以预见到语法："
   ]
  },
  {
   "cell_type": "code",
   "execution_count": 17,
   "metadata": {},
   "outputs": [
    {
     "name": "stdout",
     "output_type": "stream",
     "text": [
      "[100, 3, 5, 7, 11]\n"
     ]
    }
   ],
   "source": [
    "L[0] = 100\n",
    "print(L)"
   ]
  },
  {
   "cell_type": "code",
   "execution_count": 18,
   "metadata": {},
   "outputs": [
    {
     "name": "stdout",
     "output_type": "stream",
     "text": [
      "[100, 55, 56, 7, 11]\n"
     ]
    }
   ],
   "source": [
    "L[1:3] = [55, 56]\n",
    "print(L)"
   ]
  },
  {
   "cell_type": "markdown",
   "metadata": {},
   "source": [
    "> A very similar slicing syntax is also used in many data science-oriented packages, including NumPy and Pandas (mentioned in the introduction).\n",
    "\n",
    "这些索引和切片的语法会在其他一些数据科学常用的包当中使用，包括NumPy和Pandas，基本没有太大语法变化。\n",
    "\n",
    "> Now that we have seen Python lists and how to access elements in ordered compound types, let's take a look at the other three standard compound data types mentioned earlier.\n",
    "\n",
    "现在我们学习了Python的列表，以及如何在有序的复合类型中访问元素。让我们继续讨论其他的三个标准复合数据类型。"
   ]
  },
  {
   "cell_type": "markdown",
   "metadata": {},
   "source": [
    "## Tuples\n",
    "\n",
    "## 元组\n",
    "\n",
    "> Tuples are in many ways similar to lists, but they are defined with parentheses rather than square brackets:\n",
    "\n",
    "元组在许多方面都与列表近似，但是元组使用小括号进行定义而不是中括号："
   ]
  },
  {
   "cell_type": "code",
   "execution_count": 19,
   "metadata": {},
   "outputs": [],
   "source": [
    "t = (1, 2, 3)"
   ]
  },
  {
   "cell_type": "markdown",
   "metadata": {},
   "source": [
    "> They can also be defined without any brackets at all:\n",
    "\n",
    "元组也可以不使用任何括号进行定义："
   ]
  },
  {
   "cell_type": "code",
   "execution_count": 20,
   "metadata": {},
   "outputs": [
    {
     "name": "stdout",
     "output_type": "stream",
     "text": [
      "(1, 2, 3)\n"
     ]
    }
   ],
   "source": [
    "t = 1, 2, 3\n",
    "print(t)"
   ]
  },
  {
   "cell_type": "markdown",
   "metadata": {},
   "source": [
    "> Like the lists discussed before, tuples have a length, and individual elements can be extracted using square-bracket indexing:\n",
    "\n",
    "就像之前讨论的列表，元组有一个长度，也可以使用方括号语法进行索引或切片："
   ]
  },
  {
   "cell_type": "code",
   "execution_count": 21,
   "metadata": {},
   "outputs": [
    {
     "data": {
      "text/plain": [
       "3"
      ]
     },
     "execution_count": 21,
     "metadata": {},
     "output_type": "execute_result"
    }
   ],
   "source": [
    "len(t)"
   ]
  },
  {
   "cell_type": "code",
   "execution_count": 22,
   "metadata": {},
   "outputs": [
    {
     "data": {
      "text/plain": [
       "1"
      ]
     },
     "execution_count": 22,
     "metadata": {},
     "output_type": "execute_result"
    }
   ],
   "source": [
    "t[0]"
   ]
  },
  {
   "cell_type": "markdown",
   "metadata": {},
   "source": [
    "> The main distinguishing feature of tuples is that they are *immutable*: this means that once they are created, their size and contents cannot be changed:\n",
    "\n",
    "元组最重要的特性是它们是*不可变*的。这意味着，一旦元组创建之后，它的长度和它包含的元素值都是不能改变的："
   ]
  },
  {
   "cell_type": "code",
   "execution_count": 23,
   "metadata": {},
   "outputs": [
    {
     "ename": "TypeError",
     "evalue": "'tuple' object does not support item assignment",
     "output_type": "error",
     "traceback": [
      "\u001b[0;31m---------------------------------------------------------------------------\u001b[0m",
      "\u001b[0;31mTypeError\u001b[0m                                 Traceback (most recent call last)",
      "\u001b[0;32m<ipython-input-23-141c76cb54a2>\u001b[0m in \u001b[0;36m<module>\u001b[0;34m()\u001b[0m\n\u001b[0;32m----> 1\u001b[0;31m \u001b[0mt\u001b[0m\u001b[0;34m[\u001b[0m\u001b[0;36m1\u001b[0m\u001b[0;34m]\u001b[0m \u001b[0;34m=\u001b[0m \u001b[0;36m4\u001b[0m\u001b[0;34m\u001b[0m\u001b[0m\n\u001b[0m",
      "\u001b[0;31mTypeError\u001b[0m: 'tuple' object does not support item assignment"
     ]
    }
   ],
   "source": [
    "t[1] = 4"
   ]
  },
  {
   "cell_type": "code",
   "execution_count": 24,
   "metadata": {},
   "outputs": [
    {
     "ename": "AttributeError",
     "evalue": "'tuple' object has no attribute 'append'",
     "output_type": "error",
     "traceback": [
      "\u001b[0;31m---------------------------------------------------------------------------\u001b[0m",
      "\u001b[0;31mAttributeError\u001b[0m                            Traceback (most recent call last)",
      "\u001b[0;32m<ipython-input-24-e8bd1632f9dd>\u001b[0m in \u001b[0;36m<module>\u001b[0;34m()\u001b[0m\n\u001b[0;32m----> 1\u001b[0;31m \u001b[0mt\u001b[0m\u001b[0;34m.\u001b[0m\u001b[0mappend\u001b[0m\u001b[0;34m(\u001b[0m\u001b[0;36m4\u001b[0m\u001b[0;34m)\u001b[0m\u001b[0;34m\u001b[0m\u001b[0m\n\u001b[0m",
      "\u001b[0;31mAttributeError\u001b[0m: 'tuple' object has no attribute 'append'"
     ]
    }
   ],
   "source": [
    "t.append(4)"
   ]
  },
  {
   "cell_type": "markdown",
   "metadata": {},
   "source": [
    "> Tuples are often used in a Python program; a particularly common case is in functions that have multiple return values.\n",
    "For example, the ``as_integer_ratio()`` method of floating-point objects returns a numerator and a denominator; this dual return value comes in the form of a tuple:\n",
    "\n",
    "元组在Python中使用广泛；特别是在函数返回多个值时。\n",
    "例如，浮点数的``as_integer_ratio()``函数会返回分子和分母；这两个返回值会作为元组返回："
   ]
  },
  {
   "cell_type": "code",
   "execution_count": 25,
   "metadata": {},
   "outputs": [
    {
     "data": {
      "text/plain": [
       "(1, 8)"
      ]
     },
     "execution_count": 25,
     "metadata": {},
     "output_type": "execute_result"
    }
   ],
   "source": [
    "x = 0.125\n",
    "x.as_integer_ratio()"
   ]
  },
  {
   "cell_type": "markdown",
   "metadata": {},
   "source": [
    "> These multiple return values can be individually assigned as follows:\n",
    "\n",
    "这些函数返回的多个值可以单独地赋值给变量："
   ]
  },
  {
   "cell_type": "code",
   "execution_count": 26,
   "metadata": {},
   "outputs": [
    {
     "name": "stdout",
     "output_type": "stream",
     "text": [
      "0.125\n"
     ]
    }
   ],
   "source": [
    "numerator, denominator = x.as_integer_ratio()\n",
    "print(numerator / denominator)"
   ]
  },
  {
   "cell_type": "markdown",
   "metadata": {},
   "source": [
    "> The indexing and slicing logic covered earlier for lists works for tuples as well, along with a host of other methods.\n",
    "Refer to the online [Python documentation](https://docs.python.org/3/tutorial/datastructures.html) for a more complete list of these.\n",
    "\n",
    "元组中索引和切片操作的使用与列表一样，其他的一些方法也是。\n",
    "参考在线[Python文档](https://docs.python.org/3/tutorial/datastructures.html)以获得更完整的信息。"
   ]
  },
  {
   "cell_type": "markdown",
   "metadata": {},
   "source": [
    "## Dictionaries\n",
    "\n",
    "## 字典\n",
    "\n",
    "> Dictionaries are extremely flexible mappings of keys to values, and form the basis of much of Python's internal implementation.\n",
    "They can be created via a comma-separated list of ``key:value`` pairs within curly braces:\n",
    "\n",
    "字典是非常灵活的键值对映射关系，它是许多Python内部实现的基础。\n",
    "字典可以通过大括号内的逗号分隔的``键:值``对的方式来创建："
   ]
  },
  {
   "cell_type": "code",
   "execution_count": 27,
   "metadata": {},
   "outputs": [],
   "source": [
    "numbers = {'one':1, 'two':2, 'three':3}"
   ]
  },
  {
   "cell_type": "markdown",
   "metadata": {},
   "source": [
    "> Items are accessed and set via the indexing syntax used for lists and tuples, except here the index is not a zero-based order but valid key in the dictionary:\n",
    "\n",
    "访问字典的元素时，通过与列表和元组相似的索引操作来进行，区别是这里的索引不是0开始的整数，而是字典中相应的一个键："
   ]
  },
  {
   "cell_type": "code",
   "execution_count": 28,
   "metadata": {},
   "outputs": [
    {
     "data": {
      "text/plain": [
       "2"
      ]
     },
     "execution_count": 28,
     "metadata": {},
     "output_type": "execute_result"
    }
   ],
   "source": [
    "# Access a value via the key\n",
    "# 通过键访问字典值\n",
    "numbers['two']"
   ]
  },
  {
   "cell_type": "markdown",
   "metadata": {},
   "source": [
    "> New items can be added to the dictionary using indexing as well:\n",
    "\n",
    "新的键值对可以通过索引操作加入字典："
   ]
  },
  {
   "cell_type": "code",
   "execution_count": 29,
   "metadata": {},
   "outputs": [
    {
     "name": "stdout",
     "output_type": "stream",
     "text": [
      "{'three': 3, 'ninety': 90, 'two': 2, 'one': 1}\n"
     ]
    }
   ],
   "source": [
    "# Set a new key:value pair\n",
    "# 加入一个新的键值对\n",
    "numbers['ninety'] = 90\n",
    "print(numbers)"
   ]
  },
  {
   "cell_type": "markdown",
   "metadata": {},
   "source": [
    "> Keep in mind that dictionaries do not maintain any sense of order for the input parameters; this is by design.\n",
    "This lack of ordering allows dictionaries to be implemented very efficiently, so that random element access is very fast, regardless of the size of the dictionary (if you're curious how this works, read about the concept of a *hash table*).\n",
    "The [python documentation](https://docs.python.org/3/library/stdtypes.html) has a complete list of the methods available for dictionaries.\n",
    "\n",
    "记住字典不会保留任何的顺序信息。\n",
    "字典不记录顺序这个特性使得它非常有效，随机访问元素非常快，基本不在乎字典的大小（如果你对此有兴趣，请阅读*哈希表*的相关概念）。\n",
    "在线[python文档](https://docs.python.org/3/library/stdtypes.html)提供了字典完整的方法列表。"
   ]
  },
  {
   "cell_type": "markdown",
   "metadata": {},
   "source": [
    "## Sets\n",
    "\n",
    "## 集\n",
    "\n",
    "> The fourth basic collection is the set, which contains unordered collections of unique items.\n",
    "They are defined much like lists and tuples, except they use the curly brackets of dictionaries:\n",
    "\n",
    "第四个基础集合类型就是set，包含着无序的且非重复的元素。\n",
    "set定义的语法与列表和元组类似，除了它使用的是和字典一样的大括号："
   ]
  },
  {
   "cell_type": "code",
   "execution_count": 30,
   "metadata": {},
   "outputs": [],
   "source": [
    "primes = {2, 3, 5, 7}\n",
    "odds = {1, 3, 5, 7, 9}"
   ]
  },
  {
   "cell_type": "markdown",
   "metadata": {},
   "source": [
    "> If you're familiar with the mathematics of sets, you'll be familiar with operations like the union, intersection, difference, symmetric difference, and others.\n",
    "Python's sets have all of these operations built-in, via methods or operators.\n",
    "For each, we'll show the two equivalent methods:\n",
    "\n",
    "如果你熟悉数学上的集合，你就会熟悉集合的有关操作，如并集、交集、差集、对称差集等。\n",
    "Python内建了所有的这些操作，通过方法或运算符。\n",
    "每一个操作我们都能看到两个效果相同的方法："
   ]
  },
  {
   "cell_type": "code",
   "execution_count": 31,
   "metadata": {},
   "outputs": [
    {
     "data": {
      "text/plain": [
       "{1, 2, 3, 5, 7, 9}"
      ]
     },
     "execution_count": 31,
     "metadata": {},
     "output_type": "execute_result"
    }
   ],
   "source": [
    "# union: items appearing in either\n",
    "# 并集\n",
    "primes | odds      # with an operator 使用运算符\n",
    "primes.union(odds) # equivalently with a method 使用方法"
   ]
  },
  {
   "cell_type": "code",
   "execution_count": 32,
   "metadata": {},
   "outputs": [
    {
     "data": {
      "text/plain": [
       "{3, 5, 7}"
      ]
     },
     "execution_count": 32,
     "metadata": {},
     "output_type": "execute_result"
    }
   ],
   "source": [
    "# intersection: items appearing in both\n",
    "# 交集\n",
    "primes & odds             # with an operator 使用运算符\n",
    "primes.intersection(odds) # equivalently with a method 使用方法"
   ]
  },
  {
   "cell_type": "code",
   "execution_count": 33,
   "metadata": {},
   "outputs": [
    {
     "data": {
      "text/plain": [
       "{2}"
      ]
     },
     "execution_count": 33,
     "metadata": {},
     "output_type": "execute_result"
    }
   ],
   "source": [
    "# difference: items in primes but not in odds\n",
    "# 差集\n",
    "primes - odds           # with an operator 使用运算符\n",
    "primes.difference(odds) # equivalently with a method 使用方法"
   ]
  },
  {
   "cell_type": "code",
   "execution_count": 34,
   "metadata": {},
   "outputs": [
    {
     "data": {
      "text/plain": [
       "{1, 2, 9}"
      ]
     },
     "execution_count": 34,
     "metadata": {},
     "output_type": "execute_result"
    }
   ],
   "source": [
    "# symmetric difference: items appearing in only one set\n",
    "# 对称差集\n",
    "primes ^ odds                     # with an operator 使用运算符\n",
    "primes.symmetric_difference(odds) # equivalently with a method 使用方法"
   ]
  },
  {
   "cell_type": "markdown",
   "metadata": {},
   "source": [
    "> Many more set methods and operations are available.\n",
    "You've probably already guessed what I'll say next: refer to Python's [online documentation](https://docs.python.org/3/library/stdtypes.html) for a complete reference.\n",
    "\n",
    "还有很多可用的方法和运算符。\n",
    "你可能也猜到作者下面要说什么了：参见[在线文档](https://docs.python.org/3/library/stdtypes.html)获得完整的指南。"
   ]
  },
  {
   "cell_type": "markdown",
   "metadata": {},
   "source": [
    "## More Specialized Data Structures\n",
    "\n",
    "## 更多特定的数据结构\n",
    "\n",
    "> Python contains several other data structures that you might find useful; these can generally be found in the built-in ``collections`` module.\n",
    "The collections module is fully-documented in [Python's online documentation](https://docs.python.org/3/library/collections.html), and you can read more about the various objects available there.\n",
    "\n",
    "Python包含了一些其他有用的数据结构；这些数据结构通常可以在内建的``collections``模块中找到。\n",
    "collections模块的详细说明可以在[在线文档](https://docs.python.org/3/library/collections.html)中查看。\n",
    "\n",
    "> In particular, I've found the following very useful on occasion:\n",
    "\n",
    "> - ``collections.namedtuple``: Like a tuple, but each value has a name\n",
    "> - ``collections.defaultdict``: Like a dictionary, but unspecified keys have a user-specified default value\n",
    "> - ``collections.OrderedDict``: Like a dictionary, but the order of keys is maintained\n",
    "\n",
    "特别的，作者发现下面几种数据结果非常有用：\n",
    "\n",
    "- ``collections.namedtuple``: 像元组，但是每个元素值都有一个名称\n",
    "- ``collections.defaultdict``: 像字典，但是对于不存在的键，都会得到一个用户指定的值\n",
    "- ``collections.OrderedDict``: 像字典，但是里面的键都是有序存储的\n",
    "\n",
    "> Once you've seen the standard built-in collection types, the use of these extended functionalities is very intuitive, and I'd suggest [reading about their use](https://docs.python.org/3/library/collections.html).\n",
    "\n",
    "一旦你掌握了內建的集合类型之后，对于其他扩展的类型也很容易上手，当然我仍然推荐你[阅读文档](https://docs.python.org/3/library/collections.html)。"
   ]
  },
  {
   "cell_type": "code",
   "execution_count": null,
   "metadata": {},
   "outputs": [],
   "source": []
  }
 ],
 "metadata": {
  "file_extension": ".py",
  "kernelspec": {
   "display_name": "Python 3",
   "language": "python",
   "name": "python3"
  },
  "language_info": {
   "codemirror_mode": {
    "name": "ipython",
    "version": 3
   },
   "file_extension": ".py",
   "mimetype": "text/x-python",
   "name": "python",
   "nbconvert_exporter": "python",
   "pygments_lexer": "ipython3",
   "version": "3.7.3"
  },
  "mimetype": "text/x-python",
  "name": "python",
  "npconvert_exporter": "python",
  "pygments_lexer": "ipython3",
  "version": 3
 },
 "nbformat": 4,
 "nbformat_minor": 2
}
