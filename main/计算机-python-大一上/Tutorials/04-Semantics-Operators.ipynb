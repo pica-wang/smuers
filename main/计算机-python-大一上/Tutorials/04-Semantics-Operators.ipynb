{
 "cells": [
  {
   "cell_type": "markdown",
   "metadata": {},
   "source": [
    "# Basic Python Semantics: Operators\n",
    "\n",
    "# 基础语法：操作符"
   ]
  },
  {
   "cell_type": "markdown",
   "metadata": {},
   "source": [
    "> In the previous section, we began to look at the semantics of Python variables and objects; here we'll dig into the semantics of the various *operators* included in the language.\n",
    "By the end of this section, you'll have the basic tools to begin comparing and operating on data in Python.\n",
    "\n",
    "在上一章，我们开始研究Python的变量和对象语义。现在我们我们来了解一下这门语言的*操作符*。\n",
    "本章结束时，你将会掌握Python中比较和操作数据的基本工具。"
   ]
  },
  {
   "cell_type": "markdown",
   "metadata": {},
   "source": [
    "## Arithmetic Operations\n",
    "\n",
    "## 算术运算\n",
    "\n",
    "> Python implements seven basic binary arithmetic operators, two of which can double as unary operators.\n",
    "They are summarized in the following table:\n",
    "\n",
    "Python实现了7种基本的二进制算术运算，2种单目运算操作。参见下表：\n",
    "\n",
    "| Operator     | Name           | Description                                            |\n",
    "|--------------|----------------|--------------------------------------------------------|\n",
    "| ``a + b``    | Addition       | Sum of ``a`` and ``b``                                 |\n",
    "| ``a - b``    | Subtraction    | Difference of ``a`` and ``b``                          |\n",
    "| ``a * b``    | Multiplication | Product of ``a`` and ``b``                             |\n",
    "| ``a / b``    | True division  | Quotient of ``a`` and ``b``                            |\n",
    "| ``a // b``   | Floor division | Quotient of ``a`` and ``b``, removing fractional parts |\n",
    "| ``a % b``    | Modulus        | Integer remainder after division of ``a`` by ``b``     |\n",
    "| ``a ** b``   | Exponentiation | ``a`` raised to the power of ``b``                     |\n",
    "| ``-a``       | Negation       | The negative of ``a``                                  |\n",
    "| ``+a``       | Unary plus     | ``a`` unchanged (rarely used)                          |\n",
    "\n",
    "| 操作符     | 名称           | 描述                                            |\n",
    "|--------------|----------------|--|\n",
    "| ``a + b``    | 加法       | ``a`` 与 ``b`` 的和                                 |\n",
    "| ``a - b``    | 减法    | ``a`` 与 ``b`` 的差                          |\n",
    "| ``a * b``    | 乘法 | ``a`` 与 ``b`` 的积                             |\n",
    "| ``a / b``    | 算术除法  | ``a`` 除以 ``b`` 的商                            |\n",
    "| ``a // b``   | 取整除法  | ``a`` 除以 ``b`` 的商，忽略分数部分 |\n",
    "| ``a % b``    | 模除        | ``a`` 被 ``b`` 整除后的余数     |\n",
    "| ``a ** b``   | 乘法 | ``a`` 的 ``b`` 次幂                     |\n",
    "| ``-a``       | 取反       | ``a`` 的取反                                |\n",
    "| ``+a``       | 单目加     | ``a`` 不变 (极少使用)                          |\n",
    "\n",
    "译者注：在Python 2.x中，为了前向兼容，/除法应用在两个整数时，结果也是整数，如 1 / 3 => 0，与取整除法效果没有区别。如果想在Python 2.x中看出两种除法的区别，需要：\n",
    "\n",
    "```\n",
    "# python\n",
    "from __future__ import division\n",
    "```\n",
    "\n",
    "> These operators can be used and combined in intuitive ways, using standard parentheses to group operations.\n",
    "For example:\n",
    "\n",
    "上面的操作符可以直观地组合起来，使用小括号组合操作。\n",
    "例如："
   ]
  },
  {
   "cell_type": "code",
   "execution_count": 1,
   "metadata": {},
   "outputs": [
    {
     "data": {
      "text/plain": [
       "42.0"
      ]
     },
     "execution_count": 1,
     "metadata": {},
     "output_type": "execute_result"
    }
   ],
   "source": [
    "# addition, subtraction, multiplication\n",
    "# 加法，减法，乘法\n",
    "(4 + 8) * (6.5 - 3)"
   ]
  },
  {
   "cell_type": "markdown",
   "metadata": {},
   "source": [
    "> Floor division is true division with fractional parts truncated:\n",
    "\n",
    "取整除法是算术除法去掉分数部分："
   ]
  },
  {
   "cell_type": "code",
   "execution_count": 2,
   "metadata": {},
   "outputs": [
    {
     "name": "stdout",
     "output_type": "stream",
     "text": [
      "5.5\n"
     ]
    }
   ],
   "source": [
    "# True division\n",
    "# 分数除法\n",
    "print(11 / 2)"
   ]
  },
  {
   "cell_type": "code",
   "execution_count": 3,
   "metadata": {},
   "outputs": [
    {
     "name": "stdout",
     "output_type": "stream",
     "text": [
      "5\n"
     ]
    }
   ],
   "source": [
    "# Floor division\n",
    "# 取整除法\n",
    "print(11 // 2)"
   ]
  },
  {
   "cell_type": "markdown",
   "metadata": {},
   "source": [
    "> The floor division operator was added in Python 3; you should be aware if working in Python 2 that the standard division operator (``/``) acts like floor division for integers and like true division for floating-point numbers.\n",
    "\n",
    "取整除法运算是Python 3中加入的。应该注意的是，在Python 2中算术除法(``/``)应用在两个整数之间时，表现得会是取整除法，如果两个操作数有一个是浮点数时，表现的是算术除法。（见上方译者注）\n",
    "\n",
    "> Finally, I'll mention an eighth arithmetic operator that was added in Python 3.5: the ``a @ b`` operator, which is meant to indicate the *matrix product* of ``a`` and ``b``, for use in various linear algebra packages.\n",
    "\n",
    "最后，作者将介绍一个Python 3.5才加入的操作符，``a @ b``操作符，它计算``a`` and ``b``的*矩阵乘积*，被用于各种线性代数的程序包中。"
   ]
  },
  {
   "cell_type": "markdown",
   "metadata": {},
   "source": [
    "## Bitwise Operations\n",
    "\n",
    "## 位操作\n",
    "\n",
    "> In addition to the standard numerical operations, Python includes operators to perform bitwise logical operations on integers.\n",
    "These are much less commonly used than the standard arithmetic operations, but it's useful to know that they exist.\n",
    "The six bitwise operators are summarized in the following table:\n",
    "\n",
    "除了上面的标准算术运算操作外，Python还提供操作符对整数进行位逻辑运算操作。\n",
    "这些操作符会比标准算术运算操作少用的多，但是我们还是应该了解它们。\n",
    "下表列出了6个位运算操作符：\n",
    "\n",
    "| Operator     | Name            | Description                                 |\n",
    "|--------------|-----------------|---------------------------------------------|\n",
    "| ``a & b``    | Bitwise AND     | Bits defined in both ``a`` and ``b``        |\n",
    "| <code>a &#124; b</code>| Bitwise OR      | Bits defined in ``a`` or ``b`` or both      |\n",
    "| ``a ^ b``    | Bitwise XOR     | Bits defined in ``a`` or ``b`` but not both |\n",
    "| ``a << b``   | Bit shift left  | Shift bits of ``a`` left by ``b`` units     |\n",
    "| ``a >> b``   | Bit shift right | Shift bits of ``a`` right by ``b`` units    |\n",
    "| ``~a``       | Bitwise NOT     | Bitwise negation of ``a``                          |\n",
    "\n",
    "| Operator     | Name            | Description                                 |\n",
    "|--------------|-----------------|---------------------------------------------|\n",
    "| ``a & b``    | 与     | ``a`` 和 ``b`` 按位与的结果        |\n",
    "| <code>a &#124; b</code>| 或      | ``a`` 和 ``b`` 按位或的结果     |\n",
    "| ``a ^ b``    | 异或     | ``a`` 和 ``b`` 按位异或的结果\n",
    "| ``a << b``   | 左移  | 将``a`` 的二进制位向左移动 ``b``单位     |\n",
    "| ``a >> b``   | 右移 | 将``a`` 的二进制位向右移动 ``b`` 单位    |\n",
    "| ``~a``       | 取反     | ``a`` 按位取反的结果                          |\n",
    "\n",
    "> These bitwise operators only make sense in terms of the binary representation of numbers, which you can see using the built-in ``bin`` function:\n",
    "\n",
    "这些位操作符仅能应用在可以使用二进制表示的数字上，你可以使用内建函数``bin``来看到这些数字的二进制形式："
   ]
  },
  {
   "cell_type": "code",
   "execution_count": 4,
   "metadata": {},
   "outputs": [
    {
     "data": {
      "text/plain": [
       "'0b1010'"
      ]
     },
     "execution_count": 4,
     "metadata": {},
     "output_type": "execute_result"
    }
   ],
   "source": [
    "bin(10)"
   ]
  },
  {
   "cell_type": "markdown",
   "metadata": {},
   "source": [
    "> The result is prefixed with ``'0b'``, which indicates a binary representation.\n",
    "The rest of the digits indicate that the number 10 is expressed as the sum $1 \\cdot 2^3 + 0 \\cdot 2^2 + 1 \\cdot 2^1 + 0 \\cdot 2^0$.\n",
    "Similarly, we can write:\n",
    "\n",
    "结果加上了前缀``'0b'``，表示这个是二进制表示形式。\n",
    "后面的数字表示出了数字10可以表现为$1 \\cdot 2^3 + 0 \\cdot 2^2 + 1 \\cdot 2^1 + 0 \\cdot 2^0$的和。\n",
    "类似的，我们可以输入："
   ]
  },
  {
   "cell_type": "code",
   "execution_count": 5,
   "metadata": {},
   "outputs": [
    {
     "data": {
      "text/plain": [
       "'0b100'"
      ]
     },
     "execution_count": 5,
     "metadata": {},
     "output_type": "execute_result"
    }
   ],
   "source": [
    "bin(4)"
   ]
  },
  {
   "cell_type": "markdown",
   "metadata": {},
   "source": [
    "> Now, using bitwise OR, we can find the number which combines the bits of 4 and 10:\n",
    "\n",
    "下面我们使用按位或，我们会看到4和10按位或的结果："
   ]
  },
  {
   "cell_type": "code",
   "execution_count": 6,
   "metadata": {},
   "outputs": [
    {
     "data": {
      "text/plain": [
       "14"
      ]
     },
     "execution_count": 6,
     "metadata": {},
     "output_type": "execute_result"
    }
   ],
   "source": [
    "4 | 10"
   ]
  },
  {
   "cell_type": "code",
   "execution_count": 7,
   "metadata": {},
   "outputs": [
    {
     "data": {
      "text/plain": [
       "'0b1110'"
      ]
     },
     "execution_count": 7,
     "metadata": {},
     "output_type": "execute_result"
    }
   ],
   "source": [
    "bin(4 | 10)"
   ]
  },
  {
   "cell_type": "markdown",
   "metadata": {},
   "source": [
    "> These bitwise operators are not as immediately useful as the standard arithmetic operators, but it's helpful to see them at least once to understand what class of operation they perform.\n",
    "In particular, users from other languages are sometimes tempted to use XOR (i.e., ``a ^ b``) when they really mean exponentiation (i.e., ``a ** b``).\n",
    "\n",
    "位操作符并不像标准算术操作符那样直接和有用，但是至少了解它们进行了哪些操作还是很有帮助的。\n",
    "特别是，某些其他的语言可能使用异或操作符(``a ^ b``)来进行乘方运算(``a ** b``)。"
   ]
  },
  {
   "cell_type": "markdown",
   "metadata": {},
   "source": [
    "## Assignment Operations\n",
    "\n",
    "## 赋值操作\n",
    "\n",
    "> We've seen that variables can be assigned with the \"``=``\" operator, and the values stored for later use. For example:\n",
    "\n",
    "我们已经了解了变量使用等号\"``=``\"来进行赋值操作，这个值可以后续使用。例如："
   ]
  },
  {
   "cell_type": "code",
   "execution_count": 8,
   "metadata": {},
   "outputs": [
    {
     "name": "stdout",
     "output_type": "stream",
     "text": [
      "24\n"
     ]
    }
   ],
   "source": [
    "a = 24\n",
    "print(a)"
   ]
  },
  {
   "cell_type": "markdown",
   "metadata": {},
   "source": [
    "> We can use these variables in expressions with any of the operators mentioned earlier.\n",
    "For example, to add 2 to ``a`` we write:\n",
    "\n",
    "我们可以在变量上应用任何前面介绍的那些操作符。\n",
    "例如，给变量``a``加上2，我们可以输入："
   ]
  },
  {
   "cell_type": "code",
   "execution_count": 9,
   "metadata": {},
   "outputs": [
    {
     "data": {
      "text/plain": [
       "26"
      ]
     },
     "execution_count": 9,
     "metadata": {},
     "output_type": "execute_result"
    }
   ],
   "source": [
    "a + 2"
   ]
  },
  {
   "cell_type": "markdown",
   "metadata": {},
   "source": [
    "> We might want to update the variable ``a`` with this new value; in this case, we could combine the addition and the assignment and write ``a = a + 2``.\n",
    "Because this type of combined operation and assignment is so common, Python includes built-in update operators for all of the arithmetic operations:\n",
    "\n",
    "我们可能希望将新的值更新到变量``a``上，在这种情况中，我们可以组合加法和赋值操作，写成``a = a + 2``。\n",
    "因为这种操作和赋值的组合运算太普遍了，Python为所有的算术运算都定义内建的更新操作符："
   ]
  },
  {
   "cell_type": "code",
   "execution_count": 10,
   "metadata": {},
   "outputs": [
    {
     "name": "stdout",
     "output_type": "stream",
     "text": [
      "26\n"
     ]
    }
   ],
   "source": [
    "a += 2  # equivalent to a = a + 2 等同于 a = a + 2\n",
    "print(a)"
   ]
  },
  {
   "cell_type": "markdown",
   "metadata": {},
   "source": [
    "> There is an augmented assignment operator corresponding to each of the binary operators listed earlier; in brief, they are:\n",
    "\n",
    "前面的双目运算符都有相应的扩展赋值运算符，见下表\n",
    "\n",
    "|||||\n",
    "|-|-|-|-|\n",
    "|``a += b``| ``a -= b``|``a *= b``| ``a /= b``|\n",
    "|``a //= b``| ``a %= b``|``a **= b``|``a &= b``|\n",
    "|<code>a &#124;= b</code>| ``a ^= b``|``a <<= b``| ``a >>= b``|\n",
    "\n",
    "> Each one is equivalent to the corresponding operation followed by assignment: that is, for any operator \"``■``\", the expression ``a ■= b`` is equivalent to ``a = a ■ b``, with a slight catch.\n",
    "For mutable objects like lists, arrays, or DataFrames, these augmented assignment operations are actually subtly different than their more verbose counterparts: they modify the contents of the original object rather than creating a new object to store the result.\n",
    "\n",
    "每一个上面列出的操作符都具有这样的等价关系：\"``a ■= b``\"等价于``a = a ■ b``。\n",
    "对于可变的对象例如list，arrays或DataFrames，这些扩展操作符会有一些细微的差别：它们将会改变原来的对象，而不是创建一个新对象来存储结果。"
   ]
  },
  {
   "cell_type": "markdown",
   "metadata": {},
   "source": [
    "## Comparison Operations\n",
    "\n",
    "## 关系操作\n",
    "\n",
    "> Another type of operation which can be very useful is comparison of different values.\n",
    "For this, Python implements standard comparison operators, which return Boolean values ``True`` and ``False``.\n",
    "The comparison operations are listed in the following table:\n",
    "\n",
    "另外一类的操作在比较两个值的时候非常有用。\n",
    "Python实现了标准的关系操作符，这些关系操作返回的值会是``True`` 和 ``False``。\n",
    "关系操作符见下表：\n",
    "\n",
    "| Operation     | Description                       || Operation     | Description                          |\n",
    "|---------------|-----------------------------------||---------------|--------------------------------------|\n",
    "| ``a == b``    | ``a`` equal to ``b``              || ``a != b``    | ``a`` not equal to ``b``             |\n",
    "| ``a < b``     | ``a`` less than ``b``             || ``a > b``     | ``a`` greater than ``b``             |\n",
    "| ``a <= b``    | ``a`` less than or equal to ``b`` || ``a >= b``    | ``a`` greater than or equal to ``b`` |\n",
    "\n",
    "| 操作     | 描述                       || 操作     | 描述                          |\n",
    "|---------------|-----------------------------------||---------------|--------------------------------------|\n",
    "| ``a == b``    | ``a`` 是否等于 ``b``              || ``a != b``    | ``a`` 是否不等于 ``b``             |\n",
    "| ``a < b``     | ``a`` 是否小于 ``b``             || ``a > b``     | ``a`` 是否大于 ``b``             |\n",
    "| ``a <= b``    | ``a`` 是否小于等于 ``b`` || ``a >= b``    | ``a`` 是否大于等于 ``b`` |\n",
    "\n",
    "> These comparison operators can be combined with the arithmetic and bitwise operators to express a virtually limitless range of tests for the numbers.\n",
    "For example, we can check if a number is odd by checking that the modulus with 2 returns 1:\n",
    "\n",
    "关系操作符可以和算术、位操作符联合起来用，因此基本上可以表达出无限可能的测试条件。\n",
    "例如，我们可以通过模除2是否等于1来测试一个数字是不是奇数："
   ]
  },
  {
   "cell_type": "code",
   "execution_count": 11,
   "metadata": {},
   "outputs": [
    {
     "data": {
      "text/plain": [
       "True"
      ]
     },
     "execution_count": 11,
     "metadata": {},
     "output_type": "execute_result"
    }
   ],
   "source": [
    "# 25 is odd\n",
    "# 25是奇数\n",
    "25 % 2 == 1"
   ]
  },
  {
   "cell_type": "code",
   "execution_count": 12,
   "metadata": {},
   "outputs": [
    {
     "data": {
      "text/plain": [
       "False"
      ]
     },
     "execution_count": 12,
     "metadata": {},
     "output_type": "execute_result"
    }
   ],
   "source": [
    "# 66 is odd\n",
    "# 66是奇数\n",
    "66 % 2 == 1"
   ]
  },
  {
   "cell_type": "markdown",
   "metadata": {},
   "source": [
    "> We can string-together multiple comparisons to check more complicated relationships:\n",
    "\n",
    "我们可以连接多个关系操作，来测试更复杂的关系："
   ]
  },
  {
   "cell_type": "code",
   "execution_count": 13,
   "metadata": {},
   "outputs": [
    {
     "data": {
      "text/plain": [
       "True"
      ]
     },
     "execution_count": 13,
     "metadata": {},
     "output_type": "execute_result"
    }
   ],
   "source": [
    "# check if a is between 15 and 30 \n",
    "# a是否在15和30之间\n",
    "a = 25\n",
    "15 < a < 30"
   ]
  },
  {
   "cell_type": "markdown",
   "metadata": {},
   "source": [
    "> And, just to make your head hurt a bit, take a look at this comparison:\n",
    "\n",
    "现在，让你的头稍微疼一下，看看下面这个关系操作："
   ]
  },
  {
   "cell_type": "code",
   "execution_count": 14,
   "metadata": {},
   "outputs": [
    {
     "data": {
      "text/plain": [
       "True"
      ]
     },
     "execution_count": 14,
     "metadata": {},
     "output_type": "execute_result"
    }
   ],
   "source": [
    "-1 == ~0"
   ]
  },
  {
   "cell_type": "markdown",
   "metadata": {},
   "source": [
    "Recall that ``~`` is the bit-flip operator, and evidently when you flip all the bits of zero you end up with -1.\n",
    "If you're curious as to why this is, look up the *two's complement* integer encoding scheme, which is what Python uses to encode signed integers, and think about happens when you start flipping all the bits of integers encoded this way.\n",
    "\n",
    "上面讨论过，``~`` 是一个按位取反操作，对0进行这个操作的结果将会产生-1。\n",
    "如果你对为什么会导致这个结果感到疑惑，你可以去查阅整数编码规范的*二进制实现*部分内容，Python使用的是有符号整数的编码方式，思考一下当你将所有二进制位取反后会发生什么。"
   ]
  },
  {
   "cell_type": "markdown",
   "metadata": {},
   "source": [
    "## Boolean Operations\n",
    "\n",
    "## 逻辑操作\n",
    "\n",
    "> When working with Boolean values, Python provides operators to combine the values using the standard concepts of \"and\", \"or\", and \"not\".\n",
    "Predictably, these operators are expressed using the words ``and``, ``or``, and ``not``:\n",
    "\n",
    "当操作布尔值时，Python提供了标准的\"and\"，\"or\"和\"not\"操作符进行布尔值操作："
   ]
  },
  {
   "cell_type": "code",
   "execution_count": 15,
   "metadata": {},
   "outputs": [
    {
     "data": {
      "text/plain": [
       "True"
      ]
     },
     "execution_count": 15,
     "metadata": {},
     "output_type": "execute_result"
    }
   ],
   "source": [
    "x = 4\n",
    "(x < 6) and (x > 2)"
   ]
  },
  {
   "cell_type": "code",
   "execution_count": 16,
   "metadata": {},
   "outputs": [
    {
     "data": {
      "text/plain": [
       "True"
      ]
     },
     "execution_count": 16,
     "metadata": {},
     "output_type": "execute_result"
    }
   ],
   "source": [
    "(x > 10) or (x % 2 == 0)"
   ]
  },
  {
   "cell_type": "code",
   "execution_count": 17,
   "metadata": {},
   "outputs": [
    {
     "data": {
      "text/plain": [
       "False"
      ]
     },
     "execution_count": 17,
     "metadata": {},
     "output_type": "execute_result"
    }
   ],
   "source": [
    "not (x < 6)"
   ]
  },
  {
   "cell_type": "markdown",
   "metadata": {},
   "source": [
    "> Boolean algebra aficionados might notice that the XOR operator is not included; this can of course be constructed in several ways from a compound statement of the other operators.\n",
    "Otherwise, a clever trick you can use for XOR of Boolean values is the following:\n",
    "\n",
    "熟悉布尔代数的朋友们可以回注意到，这里没有异或操作符；这个操作实际上可以使用很多种方式从其他的操作符结合使用得到。\n",
    "当然，这里也有一种基于布尔值的异或操作非常简单实现方式："
   ]
  },
  {
   "cell_type": "code",
   "execution_count": 18,
   "metadata": {},
   "outputs": [
    {
     "data": {
      "text/plain": [
       "False"
      ]
     },
     "execution_count": 18,
     "metadata": {},
     "output_type": "execute_result"
    }
   ],
   "source": [
    "# (x > 1) xor (x < 10)\n",
    "(x > 1) != (x < 10)"
   ]
  },
  {
   "cell_type": "markdown",
   "metadata": {},
   "source": [
    "> These sorts of Boolean operations will become extremely useful when we begin discussing *control flow statements* such as conditionals and loops.\n",
    "\n",
    "上述这些布尔操作符将在我们学习*流程控制语句*，如条件、循环，中起到很大作用。\n",
    "\n",
    "> One sometimes confusing thing about the language is when to use Boolean operators (``and``, ``or``, ``not``), and when to use bitwise operations (``&``, ``|``, ``~``).\n",
    "The answer lies in their names: Boolean operators should be used when you want to compute *Boolean values (i.e., truth or falsehood) of entire statements*.\n",
    "Bitwise operations should be used when you want to *operate on individual bits or components of the objects in question*.\n",
    "\n",
    "当你学习布尔操作符时，有一个比较容易混淆的地方，那就是什么时候该用(``and``, ``or``, ``not``)，什么时候该用位操作符(``&``, ``|``, ``~``)。\n",
    "答案就在他们的名字里面：布尔操作符应该在你希望得到一个布尔值的时候使用（如真或假），而位操作符应该在你需要*操作一个对象的单个或部分二进制位*的时候使用。\n"
   ]
  },
  {
   "cell_type": "markdown",
   "metadata": {},
   "source": [
    "## Identity and Membership Operators\n",
    "\n",
    "## 身份和成员操作符\n",
    "\n",
    "> Like ``and``, ``or``, and ``not``, Python also contains prose-like operators  to check for identity and membership.\n",
    "They are the following:\n",
    "\n",
    "> | Operator      | Description                                       |\n",
    "|---------------|---------------------------------------------------|\n",
    "| ``a is b``    | True if ``a`` and ``b`` are identical objects     |\n",
    "| ``a is not b``| True if ``a`` and ``b`` are not identical objects |\n",
    "| ``a in b``    | True if ``a`` is a member of ``b``                |\n",
    "| ``a not in b``| True if ``a`` is not a member of ``b``            |\n",
    "\n",
    "就像``and``，``or``和``not``一样，Python也有直接明了的操作符用来检查身份和成员关系。\n",
    "如下：\n",
    "\n",
    "| 操作符      | 描述                                       |\n",
    "|---------------|---------------------------------------------------|\n",
    "| ``a is b``    | ``a`` 和 ``b`` 是同一个对象时为真     |\n",
    "| ``a is not b``| ``a`` 和 ``b`` 不是同一个对象时为真 |\n",
    "| ``a in b``    | ``a`` 是 ``b`` 的一个成员时为真                |\n",
    "| ``a not in b``| ``a`` 不是 ``b`` 的一个成员时为真            |"
   ]
  },
  {
   "cell_type": "markdown",
   "metadata": {},
   "source": [
    "### Identity Operators: \"``is``\" and \"``is not``\"\n",
    "\n",
    "### 身份：\"``is``\" 和 \"``is not``\"\n",
    "\n",
    "> The identity operators, \"``is``\" and \"``is not``\" check for *object identity*.\n",
    "Object identity is different than equality, as we can see here:\n",
    "\n",
    "\"``is``\" and \"``is not``\"用来检查*对象是否同一*。\n",
    "对象的同一性和对象的相等是不一样的，我们可以从下面例子看到："
   ]
  },
  {
   "cell_type": "code",
   "execution_count": 19,
   "metadata": {},
   "outputs": [],
   "source": [
    "a = [1, 2, 3]\n",
    "b = [1, 2, 3]"
   ]
  },
  {
   "cell_type": "code",
   "execution_count": 20,
   "metadata": {},
   "outputs": [
    {
     "data": {
      "text/plain": [
       "True"
      ]
     },
     "execution_count": 20,
     "metadata": {},
     "output_type": "execute_result"
    }
   ],
   "source": [
    "a == b"
   ]
  },
  {
   "cell_type": "code",
   "execution_count": 21,
   "metadata": {},
   "outputs": [
    {
     "data": {
      "text/plain": [
       "False"
      ]
     },
     "execution_count": 21,
     "metadata": {},
     "output_type": "execute_result"
    }
   ],
   "source": [
    "a is b"
   ]
  },
  {
   "cell_type": "code",
   "execution_count": 22,
   "metadata": {},
   "outputs": [
    {
     "data": {
      "text/plain": [
       "True"
      ]
     },
     "execution_count": 22,
     "metadata": {},
     "output_type": "execute_result"
    }
   ],
   "source": [
    "a is not b"
   ]
  },
  {
   "cell_type": "markdown",
   "metadata": {},
   "source": [
    "> What do identical objects look like? Here is an example:\n",
    "\n",
    "那么所谓的同一对象是怎样的呢？下面是一个例子："
   ]
  },
  {
   "cell_type": "code",
   "execution_count": 23,
   "metadata": {},
   "outputs": [
    {
     "data": {
      "text/plain": [
       "True"
      ]
     },
     "execution_count": 23,
     "metadata": {},
     "output_type": "execute_result"
    }
   ],
   "source": [
    "a = [1, 2, 3]\n",
    "b = a\n",
    "a is b"
   ]
  },
  {
   "cell_type": "markdown",
   "metadata": {},
   "source": [
    "> The difference between the two cases here is that in the first, ``a`` and ``b`` point to *different objects*, while in the second they point to the *same object*.\n",
    "As we saw in the previous section, Python variables are pointers. The \"``is``\" operator checks whether the two variables are pointing to the same container (object), rather than referring to what the container contains.\n",
    "With this in mind, in most cases that a beginner is tempted to use \"``is``\" what they really mean is ``==``.\n",
    "\n",
    "两者的差别在于，在第一个例子里面，``a`` 和 ``b``指向*不同的对象*，然而在第二个例子中，他们指向*相同的对象*。\n",
    "在前面的章节中我们学习到，Python的变量是指针。\"``is``\"操作符检查两个变量是否指向同一个容器（对象），而不是比较容器中的内容。\n",
    "请记住这个差别，大多数情况下，新人们在用\"``is``\"的时候，实际上他们应该使用``==``。"
   ]
  },
  {
   "cell_type": "markdown",
   "metadata": {},
   "source": [
    "### Membership operators\n",
    "\n",
    "### 成员\n",
    "\n",
    "> Membership operators check for membership within compound objects.\n",
    "So, for example, we can write:\n",
    "\n",
    "成员操作符用于检查一个对象是否是另一个组合对象的成员。\n",
    "因此，我们可以看到下面的例子："
   ]
  },
  {
   "cell_type": "code",
   "execution_count": 24,
   "metadata": {},
   "outputs": [
    {
     "data": {
      "text/plain": [
       "True"
      ]
     },
     "execution_count": 24,
     "metadata": {},
     "output_type": "execute_result"
    }
   ],
   "source": [
    "1 in [1, 2, 3]"
   ]
  },
  {
   "cell_type": "code",
   "execution_count": 25,
   "metadata": {},
   "outputs": [
    {
     "data": {
      "text/plain": [
       "False"
      ]
     },
     "execution_count": 25,
     "metadata": {},
     "output_type": "execute_result"
    }
   ],
   "source": [
    "2 not in [1, 2, 3]"
   ]
  },
  {
   "cell_type": "markdown",
   "metadata": {},
   "source": [
    "> These membership operations are an example of what makes Python so easy to use compared to lower-level languages such as C.\n",
    "In C, membership would generally be determined by manually constructing a loop over the list and checking for equality of each value.\n",
    "In Python, you just type what you want to know, in a manner reminiscent of straightforward English prose.\n",
    "\n",
    "这些成员操作符的存在，是Python能比一下低层语言例如C更容易使用的例子之一。\n",
    "在C中，成员的判定通常需要编程者实现一个循环，然后依次比较每一个值才能实现。\n",
    "在Python当中，你只需要用一种直接易懂的英语语法方式，键入你需要知道的结果即可。"
   ]
  },
  {
   "cell_type": "code",
   "execution_count": null,
   "metadata": {},
   "outputs": [],
   "source": []
  }
 ],
 "metadata": {
  "kernelspec": {
   "display_name": "Python 3",
   "language": "python",
   "name": "python3"
  },
  "language_info": {
   "codemirror_mode": {
    "name": "ipython",
    "version": 3
   },
   "file_extension": ".py",
   "mimetype": "text/x-python",
   "name": "python",
   "nbconvert_exporter": "python",
   "pygments_lexer": "ipython3",
   "version": "3.7.3"
  }
 },
 "nbformat": 4,
 "nbformat_minor": 1
}
