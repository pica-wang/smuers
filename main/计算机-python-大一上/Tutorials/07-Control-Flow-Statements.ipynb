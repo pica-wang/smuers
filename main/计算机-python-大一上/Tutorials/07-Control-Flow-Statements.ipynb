{
 "cells": [
  {
   "cell_type": "markdown",
   "metadata": {},
   "source": [
    "# Control Flow\n",
    "\n",
    "# 流程控制"
   ]
  },
  {
   "cell_type": "markdown",
   "metadata": {},
   "source": [
    "> *Control flow* is where the rubber really meets the road in programming.\n",
    "Without it, a program is simply a list of statements that are sequentially executed.\n",
    "With control flow, you can execute certain code blocks conditionally and/or repeatedly: these basic building blocks can be combined to create surprisingly sophisticated programs!\n",
    "\n",
    "*流程控制*是编写程序真正开始的地方。如果没有流程控制的话，程序不过是一系列顺序执行的语句而已。应用了它们之后，程序可以依据条件执行并且/或者重复执行代码结构块。一个复杂的程序就是由这些基础的代码结构块构成的。\n",
    "\n",
    "> Here we'll cover *conditional statements* (including \"``if``\", \"``elif``\", and \"``else``\"), *loop statements* (including \"``for``\" and \"``while``\" and the accompanying \"``break``\", \"``continue``\", and \"``pass``\").\n",
    "\n",
    "在本章中，我们会阐述 *条件语句* （包括\"`if`\", \"`elif`\"和\"`else`\"），*循环语句* （包括\"`for`\"和\"`while`\"以及相应的\"`break`\", \"`continue`\"和\"`pass`\"）。"
   ]
  },
  {
   "cell_type": "markdown",
   "metadata": {},
   "source": [
    "## Conditional Statements: ``if``-``elif``-``else``:\n",
    "\n",
    "## 条件语句：`if` - `elif` - `else`\n",
    "\n",
    "> Conditional statements, often referred to as *if-then* statements, allow the programmer to execute certain pieces of code depending on some Boolean condition.\n",
    "A basic example of a Python conditional statement is this:\n",
    "\n",
    "条件语句，常被成为 *如果-那么* 语句，为程序员提供了根据某些布尔条件执行相应代码块的能力。一个最基础的Python条件语句例子如下："
   ]
  },
  {
   "cell_type": "code",
   "execution_count": 1,
   "metadata": {},
   "outputs": [
    {
     "name": "stdout",
     "output_type": "stream",
     "text": [
      "-15 is negative\n"
     ]
    }
   ],
   "source": [
    "x = -15\n",
    "\n",
    "if x == 0:  # 如果x==0为真True\n",
    "    print(x, \"is zero\")\n",
    "elif x > 0:  # 否则如果x>0为真\n",
    "    print(x, \"is positive\")\n",
    "elif x < 0:  # 否则如果x<0为真\n",
    "    print(x, \"is negative\")\n",
    "else:  # 否则（任何其他情况）\n",
    "    print(x, \"is unlike anything I've ever seen...\")"
   ]
  },
  {
   "cell_type": "markdown",
   "metadata": {},
   "source": [
    "> Note especially the use of colons (``:``) and whitespace to denote separate blocks of code.\n",
    "\n",
    "特别注意条件后面的冒号 `:` 以及每个分支结构中语句的缩进。\n",
    "\n",
    "> Python adopts the ``if`` and ``else`` often used in other languages; its more unique keyword is ``elif``, a contraction of \"else if\".\n",
    "In these conditional clauses, ``elif`` and ``else`` blocks are optional; additionally, you can optinally include as few or as many ``elif`` statements as you would like.\n",
    "\n",
    "Python采用的`if`和`else`关键字在其他语言中也经常使用；比较特别的是这里的`elif`，这是\"else if\"的简写。在整个条件`if`语法中，`elif`和`else`结构块是可选的，你可以根据需要写0个或多个的`elif`语句。"
   ]
  },
  {
   "cell_type": "markdown",
   "metadata": {},
   "source": [
    "## ``for`` loops\n",
    "\n",
    "## `for` 循环\n",
    "\n",
    "> Loops in Python are a way to repeatedly execute some code statement.\n",
    "So, for example, if we'd like to print each of the items in a list, we can use a ``for`` loop:\n",
    "\n",
    "Python中的循环是重复执行某些代码结构的一种方式。因此，如果我们需要打印输出一个list中的每个元素的话，我们可以使用`for`循环："
   ]
  },
  {
   "cell_type": "code",
   "execution_count": 2,
   "metadata": {},
   "outputs": [
    {
     "name": "stdout",
     "output_type": "stream",
     "text": [
      "2 3 5 7 "
     ]
    }
   ],
   "source": [
    "for N in [2, 3, 5, 7]:\n",
    "    print(N, end=' ') # 注意这个print的调用，使用了可省参数end，代表打印结束输出的字符串，此处使用空格，因此该print调用不会换行"
   ]
  },
  {
   "cell_type": "markdown",
   "metadata": {},
   "source": [
    "> Notice the simplicity of the ``for`` loop: we specify the variable we want to use, the sequence we want to loop over, and use the \"``in``\" operator to link them together in an intuitive and readable way.\n",
    "More precisely, the object to the right of the \"``in``\" can be any Python *iterator*.\n",
    "An iterator can be thought of as a generalized sequence, and we'll discuss them in [Iterators](10-Iterators.ipynb).\n",
    "\n",
    "上面的`for`循环很简单：我们定义一个变量用来循环遍历整个序列，然后使用in作为遍历的操作符，放在变量与序列之间，这个语法非常容易理解和阅读。这里更准确的说法是，`in`操作符的右边可以是任何Python的*迭代器（iterator）*。一个迭代器可以被认为是一个通用的序列，我们会在[迭代器](10-Iterators.ipynb)一章中更详细的讨论它。\n",
    "\n",
    "> For example, one of the most commonly-used iterators in Python is the ``range`` object, which generates a sequence of numbers:\n",
    "\n",
    "例如，Python中又一个最常用的迭代器`range`，用来产生一个数字序列："
   ]
  },
  {
   "cell_type": "code",
   "execution_count": 3,
   "metadata": {},
   "outputs": [
    {
     "name": "stdout",
     "output_type": "stream",
     "text": [
      "0 1 2 3 4 5 6 7 8 9 "
     ]
    }
   ],
   "source": [
    "for i in range(10):  # 产生从0（默认值）开始，到9（不包括10）的整数序列\n",
    "    print(i, end=' ')"
   ]
  },
  {
   "cell_type": "markdown",
   "metadata": {},
   "source": [
    "> Note that the range starts at zero by default, and that by convention the top of the range is not included in the output.\n",
    "Range objects can also have more complicated values:\n",
    "\n",
    "注意range的起始值默认为0，结束值依照大多数编程语言的习惯不包含在序列中。range还可以生成更多复杂的序列："
   ]
  },
  {
   "cell_type": "code",
   "execution_count": 4,
   "metadata": {},
   "outputs": [
    {
     "data": {
      "text/plain": [
       "[5, 6, 7, 8, 9]"
      ]
     },
     "execution_count": 4,
     "metadata": {},
     "output_type": "execute_result"
    }
   ],
   "source": [
    "# 生成从5到10的整数序列\n",
    "list(range(5, 10))"
   ]
  },
  {
   "cell_type": "code",
   "execution_count": 5,
   "metadata": {},
   "outputs": [
    {
     "data": {
      "text/plain": [
       "[0, 2, 4, 6, 8]"
      ]
     },
     "execution_count": 5,
     "metadata": {},
     "output_type": "execute_result"
    }
   ],
   "source": [
    "# 生成从0到10步长为2的整数序列\n",
    "list(range(0, 10, 2))"
   ]
  },
  {
   "cell_type": "markdown",
   "metadata": {},
   "source": [
    "> You might notice that the meaning of ``range`` arguments is very similar to the slicing syntax that we covered in [Lists](06-Built-in-Data-Structures.ipynb#Lists).\n",
    "\n",
    "你可能已经发现range的参数很像我们在[列表](06-Built-in-Data-Structures.ipynb#Lists)中介绍过的切片的语法。\n",
    "\n",
    "> Note that the behavior of ``range()`` is one of the differences between Python 2 and Python 3: in Python 2, ``range()`` produces a list, while in Python 3, ``range()`` produces an iterable object.\n",
    "\n",
    "这里需要指出的是，`range()`在Python2和Python3中有区别：在Python2中，它会产生一个list，而在Python3中，它会产生一个迭代对象。"
   ]
  },
  {
   "cell_type": "markdown",
   "metadata": {},
   "source": [
    "## ``while`` loops\n",
    "\n",
    "## `while` 循环\n",
    "\n",
    "> The other type of loop in Python is a ``while`` loop, which iterates until some condition is met:\n",
    "\n",
    "另外一种循环是`while`，他会在满足条件的情况下一直重复执行某些代码："
   ]
  },
  {
   "cell_type": "code",
   "execution_count": 6,
   "metadata": {},
   "outputs": [
    {
     "name": "stdout",
     "output_type": "stream",
     "text": [
      "0 1 2 3 4 5 6 7 8 9 "
     ]
    }
   ],
   "source": [
    "i = 0\n",
    "while i < 10:  # 当i < 10时，缩进部分的代码块会重复执行\n",
    "    print(i, end=' ')\n",
    "    i += 1"
   ]
  },
  {
   "cell_type": "markdown",
   "metadata": {},
   "source": [
    "> The argument of the ``while`` loop is evaluated as a boolean statement, and the loop is executed until the statement evaluates to False.\n",
    "\n",
    "当`while`循环的条件为True时，循环体会重复执行直至条件变为False为止。"
   ]
  },
  {
   "cell_type": "markdown",
   "metadata": {},
   "source": [
    "## ``break`` and ``continue``: Fine-Tuning Your Loops\n",
    "\n",
    "## `break` 和 `continue`：实现循环的精细控制\n",
    "\n",
    "> There are two useful statements that can be used within loops to fine-tune how they are executed:\n",
    "\n",
    "> - The ``break`` statement breaks-out of the loop entirely\n",
    "> - The ``continue`` statement skips the remainder of the current loop, and goes to the next iteration\n",
    "\n",
    "下面两个语句可以在循环体内使用，调整循环的执行：\n",
    "\n",
    "- `break`语句将退出整个循环的执行\n",
    "- `continue`语句将跳过当前循环中未执行的语句，直接进入下一次循环\n",
    "\n",
    "> These can be used in both ``for`` and ``while`` loops.\n",
    "\n",
    "上面两个语句既可以用在`for`循环中，又可以用在`while`循环中。\n",
    "\n",
    "> Here is an example of using ``continue`` to print a string of odd numbers.\n",
    "In this case, the result could be accomplished just as well with an ``if-else`` statement, but sometimes the ``continue`` statement can be a more convenient way to express the idea you have in mind:\n",
    "\n",
    "下面是一个使用`continue`打印输出奇数的例子。这个例子中循环体也可以使用`if-else`语句完成同样的功能，但是在一些情况下，`continue`会是一个更加方便表达思维逻辑的方式："
   ]
  },
  {
   "cell_type": "code",
   "execution_count": 7,
   "metadata": {},
   "outputs": [
    {
     "name": "stdout",
     "output_type": "stream",
     "text": [
      "1 3 5 7 9 11 13 15 17 19 "
     ]
    }
   ],
   "source": [
    "for n in range(20):\n",
    "    # 如果n被2除的余数为0，则跳过后面的print，执行下一次循环\n",
    "    if n % 2 == 0:\n",
    "        continue\n",
    "    print(n, end=' ')"
   ]
  },
  {
   "cell_type": "markdown",
   "metadata": {},
   "source": [
    "> Here is an example of a ``break`` statement used for a less trivial task.\n",
    "This loop will fill a list with all Fibonacci numbers up to a certain value:\n",
    "\n",
    "下面是一个使用`break`的例子，这个例子稍微有意义一些。这个循环会往列表中添加斐波那契数列，直到达到数列当前值大于某个设定值为止："
   ]
  },
  {
   "cell_type": "code",
   "execution_count": 8,
   "metadata": {},
   "outputs": [
    {
     "name": "stdout",
     "output_type": "stream",
     "text": [
      "[1, 1, 2, 3, 5, 8, 13, 21, 34, 55, 89]\n"
     ]
    }
   ],
   "source": [
    "a, b = 0, 1\n",
    "amax = 100  # 设定值\n",
    "L = []\n",
    "\n",
    "while True:\n",
    "    (a, b) = (b, a + b)  # 按照斐波那契数列定义，求出数列中的下一个数\n",
    "    if a > amax:  # 如果该数大于设定值，则直接跳出循环\n",
    "        break\n",
    "    L.append(a)\n",
    "\n",
    "print(L)"
   ]
  },
  {
   "cell_type": "markdown",
   "metadata": {},
   "source": [
    "> Notice that we use a ``while True`` loop, which will loop forever unless we have a break statement!\n",
    "\n",
    "上面的例子中的`while True`表示while循环会一直执行，除非我们使用break跳出循环。"
   ]
  },
  {
   "cell_type": "markdown",
   "metadata": {},
   "source": [
    "## Loops with an ``else`` Block\n",
    "\n",
    "## 带else的循环\n",
    "\n",
    "> One rarely used pattern available in Python is the ``else`` statement as part of a ``for`` or ``while`` loop.\n",
    "We discussed the ``else`` block earlier: it executes if all the ``if`` and ``elif`` statements evaluate to ``False``.\n",
    "The loop-``else`` is perhaps one of the more confusingly-named statements in Python; I prefer to think of it as a ``nobreak`` statement: that is, the ``else`` block is executed only if the loop ends naturally, without encountering a ``break`` statement.\n",
    "\n",
    "Python和其他语言中循环的一大区别就是，`for`或`while`循环是可以带有else分支的。前面介绍的`else`是在条件语句当中的，这非常容易理解，当`if`和所有的`elif`条件都为False的时候，程序会执行`else`的结构块。但是循环`else`又是什么意思呢？这可能是Python当中最容易让人混淆的语句之一。实际上，循环的`else`如果被称为`nobreak`会更合适：它代表着`else`部分的语句仅在循环自然结束的情况下被执行，让在循环中使用了`break`语句退出的话，`else`部分的结构块就不会得到执行。\n",
    "\n",
    "> As an example of where this might be useful, consider the following (non-optimized) implementation of the *Sieve of Eratosthenes*, a well-known algorithm for finding prime numbers:\n",
    "\n",
    "下面这个例子比较有实用性，使用了*Sieve of Eratosthenes*算法来寻找质数："
   ]
  },
  {
   "cell_type": "code",
   "execution_count": 9,
   "metadata": {},
   "outputs": [
    {
     "name": "stdout",
     "output_type": "stream",
     "text": [
      "[2, 3, 5, 7, 11, 13, 17, 19, 23, 29]\n"
     ]
    }
   ],
   "source": [
    "L = []\n",
    "nmax = 30  # 要寻找质数的最大范围\n",
    "\n",
    "for n in range(2, nmax):\n",
    "    for factor in L:  # 使用已找到的质数来测试整除\n",
    "        if n % factor == 0:  # 如果能整除n，跳出循环\n",
    "            break\n",
    "    else: # 当内层for循环不是使用break跳出时，表明n是质数，加入到结果list中\n",
    "        L.append(n)\n",
    "print(L)"
   ]
  },
  {
   "cell_type": "markdown",
   "metadata": {},
   "source": [
    "> The ``else`` statement only executes if none of the factors divide the given number.\n",
    "The ``else`` statement works similarly with the ``while`` loop.\n",
    "\n",
    "`else`语句仅在没有任何质数能整除n的情况下执行。同样的，`while`循环也可以带有`else`。"
   ]
  },
  {
   "cell_type": "code",
   "execution_count": null,
   "metadata": {},
   "outputs": [],
   "source": []
  }
 ],
 "metadata": {
  "anaconda-cloud": {},
  "kernelspec": {
   "display_name": "Python 3",
   "language": "python",
   "name": "python3"
  },
  "language_info": {
   "codemirror_mode": {
    "name": "ipython",
    "version": 3
   },
   "file_extension": ".py",
   "mimetype": "text/x-python",
   "name": "python",
   "nbconvert_exporter": "python",
   "pygments_lexer": "ipython3",
   "version": "3.7.3"
  }
 },
 "nbformat": 4,
 "nbformat_minor": 1
}
