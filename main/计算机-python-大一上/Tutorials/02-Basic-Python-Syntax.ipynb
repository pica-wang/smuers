{
 "cells": [
  {
   "cell_type": "markdown",
   "metadata": {},
   "source": [
    "# A Quick Tour of Python Language Syntax\n",
    "\n",
    "# Python语言语法快速入门"
   ]
  },
  {
   "cell_type": "markdown",
   "metadata": {},
   "source": [
    "> Python was originally developed as a teaching language, but its ease of use and clean syntax have led it to be embraced by beginners and experts alike.\n",
    "The cleanliness of Python's syntax has led some to call it \"executable pseudocode\", and indeed my own experience has been that it is often much easier to read and understand a Python script than to read a similar script written in, say, C.\n",
    "Here we'll begin to discuss the main features of Python's syntax.\n",
    "\n",
    "Python最早是作为一门教学语言发展起来的，但是它的易用性和语法纯洁性令它无论是初学者还是专家中都很容易接受。\n",
    "Python的纯净，我们通常称为“可执行的伪代码”，事实上，作者本人的经验看来，阅读Python代码比阅读其他一些相似的代码要容易的多，比方说C。\n",
    "现在我们开始讨论Python语法的主要特性。\n",
    "\n",
    "> Syntax refers to the structure of the language (i.e., what constitutes a correctly-formed program).\n",
    "For the time being, we'll not focus on the semantics – the meaning of the words and symbols within the syntax – but will return to this at a later point.\n",
    "\n",
    "语法指的是语言的结构（如：哪些内容组成的正确格式的程序）。\n",
    "一开始，我们不需要太过注意语义（指的是语法中单词或符号的含义），我们会在后面回到语义这个方面来进行讨论。\n",
    "\n",
    "> Consider the following code example:\n",
    "\n",
    "先看看以下的代码例子："
   ]
  },
  {
   "cell_type": "code",
   "execution_count": 1,
   "metadata": {},
   "outputs": [
    {
     "name": "stdout",
     "output_type": "stream",
     "text": [
      "lower: [0, 1, 2, 3, 4]\n",
      "upper: [5, 6, 7, 8, 9]\n"
     ]
    }
   ],
   "source": [
    "# set the midpoint\n",
    "# 设置中点\n",
    "midpoint = 5\n",
    "\n",
    "# make two empty lists\n",
    "# 设置两个空的list\n",
    "lower = []; upper = []\n",
    "\n",
    "# split the numbers into lower and upper\n",
    "# 将数字分到lower和upper中\n",
    "for i in range(10):\n",
    "    if (i < midpoint):\n",
    "        lower.append(i)\n",
    "    else:\n",
    "        upper.append(i)\n",
    "        \n",
    "print(\"lower:\", lower)\n",
    "print(\"upper:\", upper)"
   ]
  },
  {
   "cell_type": "markdown",
   "metadata": {},
   "source": [
    "> This script is a bit silly, but it compactly illustrates several of the important aspects of Python syntax.\n",
    "Let's walk through it and discuss some of the syntactical features of Python\n",
    "\n",
    "这个脚本显得有点傻X，但是它扼要地展示了Python语法的一些重要方面。\n",
    "让我们过一遍然后讨论Python的一些语法特性。"
   ]
  },
  {
   "cell_type": "markdown",
   "metadata": {},
   "source": [
    "## Comments Are Marked by ``#``\n",
    "\n",
    "## 使用``#``标识注释\n",
    "\n",
    "> The script starts with a comment:\n",
    "\n",
    "这段脚本以注释开始：\n",
    "\n",
    "``` python\n",
    "# set the midpoint\n",
    "```\n",
    "\n",
    "> Comments in Python are indicated by a pound sign (``#``), and anything on the line following the pound sign is ignored by the interpreter.\n",
    "This means, for example, that you can have stand-alone comments like the one just shown, as well as inline comments that follow a statement. For example:\n",
    "\n",
    "Python的注释以（``#``）开始，所以后面的内容都会被解释器忽略。\n",
    "这意味着，你可以向上面那样创建一行独立的注释，也可以在代码后面创建一个行内的注释，例如：\n",
    "\n",
    "``` python\n",
    "x += 2  # shorthand for x = x + 2\n",
    "```\n",
    "\n",
    "> Python does not have any syntax for multi-line comments, such as the ``/* ... */`` syntax used in C and C++, though multi-line strings are often used as a replacement for multi-line comments (more on this in [String Manipulation and Regular Expressions](14-Strings-and-Regular-Expressions.ipynb)).\n",
    "\n",
    "Python并没有多行注释的语法，比方说C和C++中``/* ... */``，虽然多行的字符创经常被用来作为多行注释的一个替代方案（可参阅[字符串和正则表达式](14-Strings-and-Regular-Expressions.ipynb)）。"
   ]
  },
  {
   "cell_type": "markdown",
   "metadata": {},
   "source": [
    "## End-of-Line Terminates a Statement\n",
    "\n",
    "## 换行符结束语句\n",
    "\n",
    "> The next line in the script is\n",
    "\n",
    "下一行代码是\n",
    "\n",
    "``` python\n",
    "midpoint = 5\n",
    "```\n",
    "\n",
    "> This is an assignment operation, where we've created a variable named ``midpoint`` and assigned it the value ``5``.\n",
    "Notice that the end of this statement is simply marked by the end of the line.\n",
    "This is in contrast to languages like C and C++, where every statement must end with a semicolon (``;``).\n",
    "\n",
    "这是一个复制操作，在这里我们创建了一个变量，名称为``midpoint``并且赋值为``5``。\n",
    "注意，语句的结束就是简简单单的换行。\n",
    "这与像C或C++这样的语言不一样，这些语言需要每个语句结束于一个分号（``;``）。\n",
    "\n",
    "> In Python, if you'd like a statement to continue to the next line, it is possible to use the \"``\\``\" marker to indicate this:\n",
    "\n",
    "如果你在Python里需要一条语句写在多行当中，可以使用“``\\``”来标记结尾："
   ]
  },
  {
   "cell_type": "code",
   "execution_count": 2,
   "metadata": {},
   "outputs": [],
   "source": [
    "x = 1 + 2 + 3 + 4 +\\\n",
    "    5 + 6 + 7 + 8"
   ]
  },
  {
   "cell_type": "markdown",
   "metadata": {},
   "source": [
    "> It is also possible to continue expressions on the next line within parentheses, without using the \"``\\``\" marker:\n",
    "\n",
    "也可以在一对小括号之间换行，这种情况下，可以不使用\"``\\``\"标记。"
   ]
  },
  {
   "cell_type": "code",
   "execution_count": 3,
   "metadata": {},
   "outputs": [],
   "source": [
    "x = (1 + 2 + 3 + 4 +\n",
    "     5 + 6 + 7 + 8)"
   ]
  },
  {
   "cell_type": "markdown",
   "metadata": {},
   "source": [
    "> Most Python style guides recommend the second version of line continuation (within parentheses) to the first (use of the \"``\\``\" marker).\n",
    "\n",
    "大多数Python风格指引更加推荐小括号的方式而非反斜杠的方式。"
   ]
  },
  {
   "cell_type": "markdown",
   "metadata": {},
   "source": [
    "## Semicolon Can Optionally Terminate a Statement\n",
    "\n",
    "## 分号可作为结束语句的符号\n",
    "\n",
    "> Sometimes it can be useful to put multiple statements on a single line.\n",
    "The next portion of the script is\n",
    "\n",
    "有时，将多条语句写在一行内也是有用的。\n",
    "下一行代码是\n",
    "\n",
    "``` python\n",
    "lower = []; upper = []\n",
    "```\n",
    "\n",
    "> This shows the example of how the semicolon (``;``) familiar in C can be used optionally in Python to put two statements on a single line.\n",
    "Functionally, this is entirely equivalent to writing\n",
    "\n",
    "这里展示了分号(``;``)作为语句结束符的使用，就像C当中一样，并且将两个语句放在了一行中。\n",
    "在功能上，完全等同于如下写法：\n",
    "\n",
    "``` python\n",
    "lower = []\n",
    "upper = []\n",
    "```\n",
    "\n",
    "> Using a semicolon to put multiple statements on a single line is generally discouraged by most Python style guides, though occasionally it proves convenient.\n",
    "\n",
    "使用分号将多条语句写在一行中的方式被大多数的Python编码风格所不推荐，虽然偶尔这种做法能带来一些便利。"
   ]
  },
  {
   "cell_type": "markdown",
   "metadata": {},
   "source": [
    "## Indentation: Whitespace Matters!\n",
    "\n",
    "## 缩进：空格很重要！！\n",
    "\n",
    "> Next, we get to the main block of code:\n",
    "\n",
    "下面，我们来到了代码的主要结构块：\n",
    "\n",
    "``` Python\n",
    "for i in range(10):\n",
    "    if i < midpoint:\n",
    "        lower.append(i)\n",
    "    else:\n",
    "        upper.append(i)\n",
    "```\n",
    "\n",
    "> This is a compound control-flow statement including a loop and a conditional – we'll look at these types of statements in a moment.\n",
    "For now, consider that this demonstrates what is perhaps the most controversial feature of Python's syntax: whitespace is meaningful!\n",
    "\n",
    "这是一个包含了循环和条件分支的符合流程控制语句 - 我们会在后面仔细研究这类代码。\n",
    "现在我们要看到的是Python当中最具争议的一个特性：空格居然是有意义的！\n",
    "\n",
    "> In programming languages, a *block* of code is a set of statements that should be treated as a unit.\n",
    "In C, for example, code blocks are denoted by curly braces:\n",
    "\n",
    "在编程语言中，一段代码*结构块*是一套组合的语句应该被视为一个单元。\n",
    "如C当中，代码结构块应该使用花括号标注：\n",
    "\n",
    "``` C\n",
    "// C code\n",
    "for(int i=0; i<100; i++)\n",
    "   {\n",
    "      // curly braces indicate code block\n",
    "      total += i;\n",
    "   }\n",
    "```\n",
    "\n",
    "> In Python, code blocks are denoted by *indentation*:\n",
    "\n",
    "但在Python当中，代码结构块是使用*缩进*来标注的：\n",
    "\n",
    "``` python\n",
    "for i in range(100):\n",
    "    # indentation indicates code block\n",
    "    total += i\n",
    "```\n",
    "\n",
    "> In Python, indented code blocks are always preceded by a colon (``:``) on the previous line.\n",
    "\n",
    "Python里面，如果下面会是一段（或一句）缩进的代码结构块，那么语句末尾要使用冒号(``:``)标注。"
   ]
  },
  {
   "cell_type": "markdown",
   "metadata": {},
   "source": [
    "> The use of indentation helps to enforce the uniform, readable style that many find appealing in Python code.\n",
    "But it might be confusing to the uninitiated; for example, the following two snippets will produce different results:\n",
    "\n",
    "强制缩进格式的使用可以让Python代码标准化，更具可读性。\n",
    "但是对于初学者，这可能会导致一些混淆。比如，下面的代码片段会产生不同的结果：\n",
    "\n",
    "```python\n",
    ">>> if x < 4:         >>> if x < 4:\n",
    "...     y = x * 2     ...     y = x * 2\n",
    "...     print(x)      ... print(x)\n",
    "```\n",
    "\n",
    "> In the snippet on the left, ``print(x)`` is in the indented block, and will be executed only if ``x`` is less than ``4``.\n",
    "In the snippet on the right ``print(x)`` is outside the block, and will be executed regardless of the value of ``x``!\n",
    "\n",
    "左边的片段，``print(x)``处于缩进代码结构块内，因此这句语句仅在``x``小于``4``时执行。\n",
    "右边的片段，``print(x)``出在代码结构块之外，因此无论``x``是什么值都会得到执行。"
   ]
  },
  {
   "cell_type": "markdown",
   "metadata": {},
   "source": [
    "> Python's use of meaningful whitespace often is surprising to progammers who are accustomed to other languages, but in practice it can lead to much more consistent and readable code than languages that do not enforce indentation of code blocks.\n",
    "If you find Python's use of whitespace disagreeable, I'd encourage you to give it a try: as I did, you may find that you come to appreciate it.\n",
    "\n",
    "Python的空格策略对于已经熟悉了其他语言的程序猿来说经常是不可思议的，但是在实践中，这种做法比起其他没有强制缩进策略的语言来说能够带来更好的代码的一致性和可读性。（译者存疑：译者阅读C、Java代码并不比Python要难读很多，只要代码规范，质量高，没有强制缩进也能很易读）\n",
    "如果你不认同Python这种空格策略，作者希望你能尝试一下：正如作者自己认为的，你最终会欣赏这种策略的。\n",
    "\n",
    "> Finally, you should be aware that the *amount* of whitespace used for indenting code blocks is up to the user, as long as it is consistent throughout the script.\n",
    "By convention, most style guides recommend to indent code blocks by four spaces, and that is the convention we will follow in this report.\n",
    "Note that many text editors like Emacs and Vim contain Python modes that do four-space indentation automatically.\n",
    "\n",
    "最后，你应该注意每次缩进的空格*数量*是由用户自己决定的，尽管这个数量在一份脚本中必须保持一致。\n",
    "大多数规范指引推荐一次缩进使用4个空格，本文档也会采用这个惯例。\n",
    "许多的文本编辑器，如Emacs和Vim都包含Python模式，会自动帮你做4个空格的缩进。"
   ]
  },
  {
   "cell_type": "markdown",
   "metadata": {},
   "source": [
    "## Whitespace *Within* Lines Does Not Matter\n",
    "\n",
    "## *行内*空格是无规则的\n",
    "\n",
    "> While the mantra of *meaningful whitespace* holds true for whitespace *before* lines (which indicate a code block), white space *within* lines of Python code does not matter.\n",
    "For example, all three of these expressions are equivalent:\n",
    "\n",
    "*有意义的空格*这个大魔咒仅在每行的*开头*起作用（用来表示一个代码结构块），在*行内*的空格是无关紧要的。\n",
    "例如，以下三个语句完全是等价的："
   ]
  },
  {
   "cell_type": "code",
   "execution_count": 4,
   "metadata": {},
   "outputs": [],
   "source": [
    "x=1+2\n",
    "x = 1 + 2\n",
    "x             =        1    +                2"
   ]
  },
  {
   "cell_type": "markdown",
   "metadata": {},
   "source": [
    "> Abusing this flexibility can lead to issues with code readibility – in fact, abusing white space is often one of the primary means of intentionally obfuscating code (which some people do for sport).\n",
    "Using whitespace effectively can lead to much more readable code, \n",
    "especially in cases where operators follow each other – compare the following two expressions for exponentiating by a negative number:\n",
    "\n",
    "对于这个特性的滥用会导致代码的可读性问题 - 实际上，空格滥用经常作为有意的代码混淆的一种主要方式（有些人以此为乐）。\n",
    "有效使用空格可以令代码易读得多，特别是当操作符号连续出现时 - 比较一下两条计算负数幂的表达式：\n",
    "\n",
    "``` python\n",
    "x=10**-2\n",
    "```\n",
    "to\n",
    "``` python\n",
    "x = 10 ** -2\n",
    "```\n",
    "\n",
    "> I find the second version with spaces much more easily readable at a single glance.\n",
    "Most Python style guides recommend using a single space around binary operators, and no space around unary operators.\n",
    "We'll discuss Python's operators further in [Basic Python Semantics: Operators](04-Semantics-Operators.ipynb).\n",
    "\n",
    "作者认为第二种带有空格的写法第一眼看上去就更加具有易读性。\n",
    "大多数Python编码风格指引都推荐在双目运算符的两侧都留一个空格，而单目运算符则不需要留空格。\n",
    "我们会在[基础语法: 操作符](04-Semantics-Operators.ipynb)当中深入讨论操作符问题。"
   ]
  },
  {
   "cell_type": "markdown",
   "metadata": {},
   "source": [
    "## Parentheses Are for Grouping or Calling\n",
    "\n",
    "## 小括号可用于改变运算顺序和函数调用\n",
    "\n",
    "> In the previous code snippet, we see two uses of parentheses.\n",
    "First, they can be used in the typical way to group statements or mathematical operations:\n",
    "\n",
    "在前面的代码片段中，我们看到小括号的两种用途。\n",
    "第一，小括号可以用于组合语句或算术运算："
   ]
  },
  {
   "cell_type": "code",
   "execution_count": 5,
   "metadata": {},
   "outputs": [
    {
     "data": {
      "text/plain": [
       "14"
      ]
     },
     "execution_count": 5,
     "metadata": {},
     "output_type": "execute_result"
    }
   ],
   "source": [
    "2 * (3 + 4)"
   ]
  },
  {
   "cell_type": "markdown",
   "metadata": {},
   "source": [
    "> They can also be used to indicate that a *function* is being called.\n",
    "In the next snippet, the ``print()`` function is used to display the contents of a variable (see the sidebar).\n",
    "The function call is indicated by a pair of opening and closing parentheses, with the *arguments* to the function contained within:\n",
    "\n",
    "小括号也可用于函数的调用。\n",
    "在下面这段程序片段中，``print()``函数是用于显示变量的内容。\n",
    "函数调用使用一对小括号，里面包含调用函数的*参数列表*："
   ]
  },
  {
   "cell_type": "code",
   "execution_count": 6,
   "metadata": {},
   "outputs": [
    {
     "name": "stdout",
     "output_type": "stream",
     "text": [
      "first value: 1\n"
     ]
    }
   ],
   "source": [
    "print('first value:', 1)"
   ]
  },
  {
   "cell_type": "code",
   "execution_count": 7,
   "metadata": {},
   "outputs": [
    {
     "name": "stdout",
     "output_type": "stream",
     "text": [
      "second value: 2\n"
     ]
    }
   ],
   "source": [
    "print('second value:', 2)"
   ]
  },
  {
   "cell_type": "markdown",
   "metadata": {},
   "source": [
    "> Some functions can be called with no arguments at all, in which case the opening and closing parentheses still must be used to indicate a function evaluation.\n",
    "An example of this is the ``sort`` method of lists:\n",
    "\n",
    "一些函数可以没有任何参数，在这种情况下，一对小括号依然不可缺少。\n",
    "下面是一个list的``sort``函数调用的例子："
   ]
  },
  {
   "cell_type": "code",
   "execution_count": 8,
   "metadata": {},
   "outputs": [
    {
     "name": "stdout",
     "output_type": "stream",
     "text": [
      "[1, 2, 3, 4]\n"
     ]
    }
   ],
   "source": [
    "L = [4,2,3,1]\n",
    "L.sort()\n",
    "print(L)"
   ]
  },
  {
   "cell_type": "markdown",
   "metadata": {},
   "source": [
    "> The \"``()``\" after ``sort`` indicates that the function should be executed, and is required even if no arguments are necessary.\n",
    "\n",
    "``sort``后面的一对小括号\"``()``\"指示这里是执行一个函数，因此即使没有参数也是必须的。"
   ]
  },
  {
   "cell_type": "markdown",
   "metadata": {},
   "source": [
    "## Aside: A Note on the ``print()`` Function\n",
    "\n",
    "## 额外知识：``print()``函数\n",
    "\n",
    "> Above we used the example of the ``print()`` function.\n",
    "The ``print()`` function is one piece that has changed between Python *2.x* and Python *3.x*. In Python 2, ``print`` behaved as a statement: that is, you could write\n",
    "\n",
    "在上面我们使用了``print()``函数作为例子。这个函数是Python *2.x*和Python *3.x*有区别的一个地方。在Python 2中，``print``的行为是一个语句：\n",
    "\n",
    "``` python\n",
    "# Python 2 only!\n",
    "# 仅用于Python 2\n",
    ">>> print \"first value:\", 1\n",
    "first value: 1\n",
    "```\n",
    "\n",
    "> For various reasons, the language maintainers decided that in Python 3 ``print()`` should become a function, so we now write\n",
    "\n",
    "因为种种原因，Python的维护者们决定在3版本中，``print()``将作为一个函数，因此我们将这样写：\n",
    "\n",
    "``` python\n",
    "# Python 3 only!\n",
    "# 仅用于Python 3\n",
    "# 译者注：事实上，译者用的Python 2.7.x也能接受这种写法，只不过2.7.x中，(\"first value:\", 1)将被当成一个元组tuple输出\n",
    ">>> print(\"first value:\", 1)\n",
    "first value: 1\n",
    "```\n",
    "\n",
    "> This is one of the many backward-incompatible constructs between Python 2 and 3.\n",
    "As of the writing of this book, it is common to find examples written in both versions of Python, and the presence of the ``print`` statement rather than the ``print()`` function is often one of the first signs that you're looking at Python 2 code.\n",
    "\n",
    "这是Python 2和3之间众多不兼容的地方之一。\n",
    "当创建这份文档时，我们已经能够找到许多既支持2也支持3的代码例子了，因此，当你阅读Python 2代码的时候，``print``语句而非``print()``函数应该可能是你发现的第一个不同版本的记号。"
   ]
  },
  {
   "cell_type": "markdown",
   "metadata": {},
   "source": [
    "## Finishing Up and Learning More\n",
    "\n",
    "## 概括一下，更多资源\n",
    "\n",
    "> This has been a very brief exploration of the essential features of Python syntax; its purpose is to give you a good frame of reference for when you're reading the code in later sections.\n",
    "Several times we've mentioned Python \"style guides\", which can help teams to write code in a consistent style.\n",
    "The most widely used style guide in Python is known as PEP8, and can be found at https://www.python.org/dev/peps/pep-0008/.\n",
    "As you begin to write more Python code, it would be useful to read through this!\n",
    "The style suggestions contain the wisdom of many Python gurus, and most suggestions go beyond simple pedantry: they are experience-based recommendations that can help avoid subtle mistakes and bugs in your code.\n",
    "\n",
    "这章介绍了Python语法的最基础特性。目的是为你在阅读后续章节的代码时给你一个良好的参考。\n",
    "本章中几次提到了Python代码规范指引，用于帮助团队书写出一致的代码风格。\n",
    "最广泛应用的Python代码规范是PEP8，你可以在[PEP8](https://www.python.org/dev/peps/pep-0008/)中找到这套完整的规范。\n",
    "当你写的Python代码越来越多时，完整读完这套规范会对你很有帮助。\n",
    "这套规范建议是许多Python大神的智慧结晶，大多数的建议并不是因为“回字有四种写法”：它们是基于经验得到的，能帮助你避免一些难以察觉的错误和bug。"
   ]
  },
  {
   "cell_type": "code",
   "execution_count": null,
   "metadata": {},
   "outputs": [],
   "source": []
  }
 ],
 "metadata": {
  "kernelspec": {
   "display_name": "Python 3",
   "language": "python",
   "name": "python3"
  },
  "language_info": {
   "codemirror_mode": {
    "name": "ipython",
    "version": 3
   },
   "file_extension": ".py",
   "mimetype": "text/x-python",
   "name": "python",
   "nbconvert_exporter": "python",
   "pygments_lexer": "ipython3",
   "version": "3.7.3"
  }
 },
 "nbformat": 4,
 "nbformat_minor": 1
}
