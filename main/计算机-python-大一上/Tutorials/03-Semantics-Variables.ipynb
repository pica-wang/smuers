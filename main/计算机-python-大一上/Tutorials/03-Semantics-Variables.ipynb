{
 "cells": [
  {
   "cell_type": "markdown",
   "metadata": {},
   "source": [
    "# Basic Python Semantics: Variables and Objects\n",
    "\n",
    "# 基础语法：变量和对象"
   ]
  },
  {
   "cell_type": "markdown",
   "metadata": {},
   "source": [
    "> This section will begin to cover the basic semantics of the Python language.\n",
    "As opposed to the *syntax* covered in the previous section, the *semantics* of a language involve the meaning of the statements.\n",
    "As with our discussion of syntax, here we'll preview a few of the essential semantic constructions in Python to give you a better frame of reference for understanding the code in the following sections.\n",
    "\n",
    "本章开始讨论Python语言的基本语义知识。\n",
    "与上一张的*语法*不一样，语言的*语义*包括了语句的含义。\n",
    "结合之前的基本语法，这里我们将讨论一些基础的语法结构，使你能够更好的掌握Python的整体语法架构，从而理解后续章节的代码。\n",
    "\n",
    "> This section will cover the semantics of *variables* and *objects*, which are the main ways you store, reference, and operate on data within a Python script.\n",
    "\n",
    "这一章将涵盖*变量*和*对象*的语义，它们是你在Python中存储、引用和操作数据的方式。"
   ]
  },
  {
   "cell_type": "markdown",
   "metadata": {},
   "source": [
    "## Python Variables Are Pointers\n",
    "\n",
    "## Python变量都是指针\n",
    "\n",
    "> Assigning variables in Python is as easy as putting a variable name to the left of the equals (``=``) sign:\n",
    "\n",
    "在Python中给变量赋值很容易，只要将变量名称放置在等于号(``=``)左边即可：\n",
    "\n",
    "```python\n",
    "# assign 4 to the variable x\n",
    "# 将4赋值给变量x\n",
    "x = 4\n",
    "```\n",
    "\n",
    "> This may seem straightforward, but if you have the wrong mental model of what this operation does, the way Python works may seem confusing.\n",
    "We'll briefly dig into that here.\n",
    "\n",
    "这看起来很直接，但是如果你没有完全理解这个操作的内在涵义，Python的做法会让你觉得很困惑。我们现在简要地深入了解一下。\n",
    "\n",
    "> In many programming languages, variables are best thought of as containers or buckets into which you put data.\n",
    "So in C, for example, when you write\n",
    "\n",
    "许多的编程语言中，变量通常当成一个放置数据的容器或桶。\n",
    "比方说C，当你写下：\n",
    "\n",
    "```C\n",
    "// C code\n",
    "int x = 4;\n",
    "```\n",
    "\n",
    "> you are essentially defining a \"memory bucket\" named ``x``, and putting the value ``4`` into it.\n",
    "In Python, by contrast, variables are best thought of not as containers but as pointers.\n",
    "So in Python, when you write\n",
    "\n",
    "你只是定义了一个“内存容器”，名字叫做``x``，然后将值``4``放进去。\n",
    "在Python中，不太一样，变量应该被认为是指针而不是容器。\n",
    "所以在Python里面，当你写下：\n",
    "\n",
    "```python\n",
    "x = 4\n",
    "```\n",
    "\n",
    "> you are essentially defining a *pointer* named ``x`` that points to some other bucket containing the value ``4``.\n",
    "Note one consequence of this: because Python variables just point to various objects, there is no need to \"declare\" the variable, or even require the variable to always point to information of the same type!\n",
    "This is the sense in which people say Python is *dynamically-typed*: variable names can point to objects of any type.\n",
    "So in Python, you can do things like this:\n",
    "\n",
    "你只是定义了一个*指针*，名字叫做``x``，这个指针指向另外一个容器装着值``4``。\n",
    "注意这样会带来一个后果：因为Python变量只是指向不同的对象，因此不需要“定义”变量，即使在这个变量永远指向一个同样类型的数据时也不需要。\n",
    "这就是大家说的Python是*动态类型*语言。变量可以指向任何类型的对象。\n",
    "因此在Python中，你可以这样做："
   ]
  },
  {
   "cell_type": "code",
   "execution_count": 1,
   "metadata": {},
   "outputs": [],
   "source": [
    "x = 1         # x is an integer\n",
    "x = 'hello'   # now x is a string\n",
    "x = [1, 2, 3] # now x is a list"
   ]
  },
  {
   "cell_type": "markdown",
   "metadata": {},
   "source": [
    "> While users of statically-typed languages might miss the type-safety that comes with declarations like those found in C,\n",
    "\n",
    "虽然那些静态类型语言的用户可能会怀念定义变量带来的类型安全，类似C当中的：\n",
    "\n",
    "```C\n",
    "int x = 4;\n",
    "```\n",
    "\n",
    "> this dynamic typing is one of the pieces that makes Python so quick to write and easy to read.\n",
    "\n",
    "但是动态类型是Python能写的那么快和那么易读的原因之一。\n",
    "\n",
    "> There is a consequence of this \"variable as pointer\" approach that you need to be aware of.\n",
    "If we have two variable names pointing to the same *mutable* object, then changing one will change the other as well!\n",
    "For example, let's create and modify a list:\n",
    "\n",
    "但是有一点“指针变量”带来的后果你应该要了解。\n",
    "如果我们有两个变量指向同一个*可变的*的对象，那么一个发生改变，另一个也会跟着变化！\n",
    "例如，我们创建和修改一个list："
   ]
  },
  {
   "cell_type": "code",
   "execution_count": 2,
   "metadata": {},
   "outputs": [],
   "source": [
    "x = [1, 2, 3]\n",
    "y = x"
   ]
  },
  {
   "cell_type": "markdown",
   "metadata": {},
   "source": [
    "> We've created two variables ``x`` and ``y`` which both point to the same object.\n",
    "Because of this, if we modify the list via one of its names, we'll see that the \"other\" list will be modified as well:\n",
    "\n",
    "我们创建了两个变量``x``和``y``，都指向同一个对象。\n",
    "因为如此，如果我们通过其中一个变量改变了list对象，我们将会看到“另一个”list也会发生同样变化："
   ]
  },
  {
   "cell_type": "code",
   "execution_count": 3,
   "metadata": {},
   "outputs": [
    {
     "name": "stdout",
     "output_type": "stream",
     "text": [
      "[1, 2, 3]\n"
     ]
    }
   ],
   "source": [
    "print(y)"
   ]
  },
  {
   "cell_type": "code",
   "execution_count": 4,
   "metadata": {},
   "outputs": [
    {
     "name": "stdout",
     "output_type": "stream",
     "text": [
      "[1, 2, 3, 4]\n"
     ]
    }
   ],
   "source": [
    "x.append(4) # append 4 to the list pointed to by x 将4添加到list末尾\n",
    "print(y) # y's list is modified as well! y也跟着变了！"
   ]
  },
  {
   "cell_type": "markdown",
   "metadata": {},
   "source": [
    "> This behavior might seem confusing if you're wrongly thinking of variables as buckets that contain data.\n",
    "But if you're correctly thinking of variables as pointers to objects, then this behavior makes sense.\n",
    "\n",
    "如果你将变量看成容器装着数据的话，这个行为可能会让你非常困惑。\n",
    "但是如果你明白了变量其实是对象的指针的话，那这个行为就非常正常了。\n",
    "\n",
    "> Note also that if we use \"``=``\" to assign another value to ``x``, this will not affect the value of ``y`` – assignment is simply a change of what object the variable points to:\n",
    "\n",
    "注意，如果我们使用\"``=``\"将另一个值赋给``x``，这不会对``y``的值产生任何影响 - 赋值仅仅是改变变量指向对象的那个指针："
   ]
  },
  {
   "cell_type": "code",
   "execution_count": 5,
   "metadata": {},
   "outputs": [
    {
     "name": "stdout",
     "output_type": "stream",
     "text": [
      "[1, 2, 3, 4]\n"
     ]
    }
   ],
   "source": [
    "x = 'something else'\n",
    "print(y)  # y is unchanged y没有变化"
   ]
  },
  {
   "cell_type": "markdown",
   "metadata": {},
   "source": [
    "> Again, this makes perfect sense if you think of ``x`` and ``y`` as pointers, and the \"``=``\" operator as an operation that changes what the name points to.\n",
    "\n",
    "再次说明，这非常符合逻辑如果你将``x``和``y``想象成指针，\"``=``\"操作符是将变量名称指向改变了而已。\n",
    "\n",
    "> You might wonder whether this pointer idea makes arithmetic operations in Python difficult to track, but Python is set up so that this is not an issue. Numbers, strings, and other *simple types* are immutable: you can't change their value – you can only change what values the variables point to.\n",
    "So, for example, it's perfectly safe to do operations like the following:\n",
    "\n",
    "你可能会担心变量是指针会让Python很难跟踪算术计算的操作，Python早解决好了这个问题，无需担心。数字、字符串和其他*简单类型*在Python中都是不可变的：你不能改变它们的值 - 你只能改变变量指向的对象。\n",
    "因此，例如，这面的操作是完全安全的："
   ]
  },
  {
   "cell_type": "code",
   "execution_count": 6,
   "metadata": {},
   "outputs": [
    {
     "name": "stdout",
     "output_type": "stream",
     "text": [
      "x = 15\n",
      "y = 10\n"
     ]
    }
   ],
   "source": [
    "x = 10\n",
    "y = x\n",
    "x += 5  # add 5 to x's value, and assign it to x x的值加上5，赋值给x\n",
    "print(\"x =\", x)\n",
    "print(\"y =\", y)"
   ]
  },
  {
   "cell_type": "markdown",
   "metadata": {},
   "source": [
    "> When we call ``x += 5``, we are not modifying the value of the ``5`` object pointed to by ``x``, but rather we are changing the object to which ``x`` points.\n",
    "For this reason, the value of ``y`` is not affected by the operation.\n",
    "\n",
    "当我们执行``x += 5``，我们没有改变x指向的``5``这个对象的值，我们只是改变了``x``指向的对象。\n",
    "因此，``y``没有被这个操作影响。"
   ]
  },
  {
   "cell_type": "markdown",
   "metadata": {},
   "source": [
    "## Everything Is an Object\n",
    "\n",
    "## 任何东西都是一个对象\n",
    "\n",
    "> Python is an object-oriented programming language, and in Python everything is an object.\n",
    "\n",
    "Python是一个面向对象编程语言，在Python中任何东西都是一个对象\n",
    "\n",
    "> Let's flesh-out what this means. Earlier we saw that variables are simply pointers, and the variable names themselves have no attached type information.\n",
    "This leads some to claim erroneously that Python is a type-free language. But this is not the case!\n",
    "Consider the following:\n",
    "\n",
    "让我们来深入讨论下这个意义。之前我们看到变量都是简单的指针，并且变量名称都没有绑定的类型信息。\n",
    "因此有些错误的看法认为Python是一种无类型语言。这是不对的！\n",
    "参看下面的代码："
   ]
  },
  {
   "cell_type": "code",
   "execution_count": 7,
   "metadata": {},
   "outputs": [
    {
     "data": {
      "text/plain": [
       "int"
      ]
     },
     "execution_count": 7,
     "metadata": {},
     "output_type": "execute_result"
    }
   ],
   "source": [
    "x = 4\n",
    "type(x)"
   ]
  },
  {
   "cell_type": "code",
   "execution_count": 8,
   "metadata": {},
   "outputs": [
    {
     "data": {
      "text/plain": [
       "str"
      ]
     },
     "execution_count": 8,
     "metadata": {},
     "output_type": "execute_result"
    }
   ],
   "source": [
    "x = 'hello'\n",
    "type(x)"
   ]
  },
  {
   "cell_type": "code",
   "execution_count": 9,
   "metadata": {},
   "outputs": [
    {
     "data": {
      "text/plain": [
       "float"
      ]
     },
     "execution_count": 9,
     "metadata": {},
     "output_type": "execute_result"
    }
   ],
   "source": [
    "x = 3.14159\n",
    "type(x)"
   ]
  },
  {
   "cell_type": "markdown",
   "metadata": {},
   "source": [
    "> Python has types; however, the types are linked not to the variable names but *to the objects themselves*.\n",
    "\n",
    "Python是有类型的。然而，类型并没有和变量名称联系起来，它们只是*和对象本身联系*起来。\n",
    "\n",
    "> In object-oriented programming languages like Python, an *object* is an entity that contains data along with associated metadata and/or functionality.\n",
    "In Python everything is an object, which means every entity has some metadata (called *attributes*) and associated functionality (called *methods*).\n",
    "These attributes and methods are accessed via the dot syntax.\n",
    "\n",
    "在如Python这样的OO语言中，一个*对象*是一个保存了数据及元数据，和/或它的函数的实体。\n",
    "Python中任何东西都是一个对象，这意味着每个实体有一些元数据（被称为*属性*）及相关的功能函数（被称为*方法*）。\n",
    "这些属性和方法可以通过点符号访问到。\n",
    "\n",
    "> For example, before we saw that lists have an ``append`` method, which adds an item to the list, and is accessed via the dot (\"``.``\") syntax:\n",
    "\n",
    "例如，之前我们看到list有一个``append``方法，它会将一个元素添加到list的末尾，访问它的语法是通过一个点(\"``.``\")："
   ]
  },
  {
   "cell_type": "code",
   "execution_count": 10,
   "metadata": {},
   "outputs": [
    {
     "name": "stdout",
     "output_type": "stream",
     "text": [
      "[1, 2, 3, 100]\n"
     ]
    }
   ],
   "source": [
    "L = [1, 2, 3]\n",
    "L.append(100)\n",
    "print(L)"
   ]
  },
  {
   "cell_type": "markdown",
   "metadata": {},
   "source": [
    "> While it might be expected for compound objects like lists to have attributes and methods, what is sometimes unexpected is that in Python even simple types have attached attributes and methods.\n",
    "For example, numerical types have a ``real`` and ``imag`` attribute that returns the real and imaginary part of the value, if viewed as a complex number:\n",
    "\n",
    "复杂的对象如list会有属性和方法，但是有时你会意料不到在Python里即使简单类型的对象也有属性和方法。\n",
    "例如，数字类型含有实数``real``和虚数``imag``属性，分别返回一个数字类型值的实数和虚数部分："
   ]
  },
  {
   "cell_type": "code",
   "execution_count": 1,
   "metadata": {},
   "outputs": [
    {
     "name": "stdout",
     "output_type": "stream",
     "text": [
      "(4.5, '+', 0.0, 'i')\n"
     ]
    },
    {
     "data": {
      "text/plain": [
       "1.23"
      ]
     },
     "execution_count": 1,
     "metadata": {},
     "output_type": "execute_result"
    }
   ],
   "source": [
    "x = 4.5\n",
    "print(x.real, \"+\", x.imag, 'i')\n",
    "\n",
    "# 译者注，下面这个例子更好的说明了其实数字是一个对象\n",
    "(1.23).real"
   ]
  },
  {
   "cell_type": "markdown",
   "metadata": {},
   "source": [
    "> Methods are like attributes, except they are functions that you can call using opening and closing parentheses.\n",
    "For example, floating point numbers have a method called ``is_integer`` that checks whether the value is an integer:\n",
    "\n",
    "方法就像属性一样，出了它们是函数，调用的时候需要使用小括号。\n",
    "例如，浮点数对象有一个方法名为``is_integer``用来检查这个对象是否是一个整数："
   ]
  },
  {
   "cell_type": "code",
   "execution_count": 12,
   "metadata": {},
   "outputs": [
    {
     "data": {
      "text/plain": [
       "False"
      ]
     },
     "execution_count": 12,
     "metadata": {},
     "output_type": "execute_result"
    }
   ],
   "source": [
    "x = 4.5\n",
    "x.is_integer()"
   ]
  },
  {
   "cell_type": "code",
   "execution_count": 13,
   "metadata": {},
   "outputs": [
    {
     "data": {
      "text/plain": [
       "True"
      ]
     },
     "execution_count": 13,
     "metadata": {},
     "output_type": "execute_result"
    }
   ],
   "source": [
    "x = 4.0\n",
    "x.is_integer()"
   ]
  },
  {
   "cell_type": "markdown",
   "metadata": {},
   "source": [
    "> When we say that everything in Python is an object, we really mean that *everything* is an object – even the attributes and methods of objects are themselves objects with their own ``type`` information:\n",
    "\n",
    "当我们说Python里任何东西都是一个对象是，我们真的真的认为*任何东西*是一个对象 - 甚至对象的属性和方法本身也是一个对象，它们也都有类型``type``："
   ]
  },
  {
   "cell_type": "code",
   "execution_count": 14,
   "metadata": {},
   "outputs": [
    {
     "data": {
      "text/plain": [
       "builtin_function_or_method"
      ]
     },
     "execution_count": 14,
     "metadata": {},
     "output_type": "execute_result"
    }
   ],
   "source": [
    "type(x.is_integer)"
   ]
  },
  {
   "cell_type": "markdown",
   "metadata": {},
   "source": [
    "> We'll find that the everything-is-object design choice of Python allows for some very convenient language constructs.\n",
    "\n",
    "我们会发现*任何东西都是对象*的设计使得Python能允许一些非常便利的语言结构。"
   ]
  },
  {
   "cell_type": "code",
   "execution_count": null,
   "metadata": {},
   "outputs": [],
   "source": []
  }
 ],
 "metadata": {
  "kernelspec": {
   "display_name": "Python 3",
   "language": "python",
   "name": "python3"
  },
  "language_info": {
   "codemirror_mode": {
    "name": "ipython",
    "version": 3
   },
   "file_extension": ".py",
   "mimetype": "text/x-python",
   "name": "python",
   "nbconvert_exporter": "python",
   "pygments_lexer": "ipython3",
   "version": "3.7.3"
  }
 },
 "nbformat": 4,
 "nbformat_minor": 1
}
